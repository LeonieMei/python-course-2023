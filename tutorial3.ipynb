{
 "cells": [
  {
   "cell_type": "code",
   "execution_count": null,
   "id": "06e87aac",
   "metadata": {},
   "outputs": [],
   "source": [
    "import numpy as np\n",
    "import pandas as pd\n",
    "import seaborn as sns\n",
    "import matplotlib.pyplot as plt\n",
    "\n",
    "from IPython.display import Image, display"
   ]
  },
  {
   "cell_type": "code",
   "execution_count": null,
   "id": "8f2f7634",
   "metadata": {},
   "outputs": [],
   "source": [
    "%matplotlib inline\n",
    "%load_ext autoreload\n",
    "%autoreload 2"
   ]
  },
  {
   "cell_type": "code",
   "execution_count": null,
   "id": "6d0aab83",
   "metadata": {},
   "outputs": [],
   "source": [
    "# Data\n",
    "df2015 = pd.read_csv(\"data/happiness/2015.csv\")\n",
    "df2016 = pd.read_csv(\"data/happiness/2016.csv\")\n",
    "df2017 = pd.read_csv(\"data/happiness/2017.csv\")\n",
    "df2018 = pd.read_csv(\"data/happiness/2018.csv\")\n",
    "df2019 = pd.read_csv(\"data/happiness/2019.csv\")"
   ]
  },
  {
   "cell_type": "markdown",
   "id": "3d555d99",
   "metadata": {},
   "source": [
    "# Data analysis"
   ]
  },
  {
   "cell_type": "code",
   "execution_count": null,
   "id": "2b030d91",
   "metadata": {},
   "outputs": [],
   "source": [
    "display(Image(filename='data/images/cute_panda_fun.jpg'))"
   ]
  },
  {
   "cell_type": "markdown",
   "id": "f5d09913",
   "metadata": {},
   "source": [
    "## Summary operators (mean, mode, median)"
   ]
  },
  {
   "cell_type": "code",
   "execution_count": null,
   "id": "1beafe87",
   "metadata": {},
   "outputs": [],
   "source": [
    "df2019.mean()"
   ]
  },
  {
   "cell_type": "code",
   "execution_count": null,
   "id": "5d1710d3",
   "metadata": {},
   "outputs": [],
   "source": [
    "columnsOfInterest = [\"Score\", \"GDP per capita\", \"Social support\"]\n",
    "df2019[columnsOfInterest].mean()"
   ]
  },
  {
   "cell_type": "code",
   "execution_count": null,
   "id": "1275751f",
   "metadata": {},
   "outputs": [],
   "source": [
    "columnsOfInterest = [\"Score\", \"GDP per capita\", \"Social support\"]\n",
    "df2019[columnsOfInterest].median()"
   ]
  },
  {
   "cell_type": "code",
   "execution_count": null,
   "id": "ecd56110",
   "metadata": {},
   "outputs": [],
   "source": [
    "columnsOfInterest = [\"Score\", \"GDP per capita\", \"Social support\"]\n",
    "df2019[columnsOfInterest].mode()"
   ]
  },
  {
   "cell_type": "markdown",
   "id": "e6a37148",
   "metadata": {},
   "source": [
    "\"The mode of a set of values is the value that appears most often. It can be multiple values.\""
   ]
  },
  {
   "cell_type": "code",
   "execution_count": null,
   "id": "f557a04a",
   "metadata": {},
   "outputs": [],
   "source": [
    "df2019[df2019.Score==5.208]"
   ]
  },
  {
   "cell_type": "markdown",
   "id": "514e36e1",
   "metadata": {},
   "source": [
    "##### Min, max"
   ]
  },
  {
   "cell_type": "code",
   "execution_count": null,
   "id": "fb2e56db",
   "metadata": {},
   "outputs": [],
   "source": [
    "maxGDP = df2019[\"GDP per capita\"].max()\n",
    "df2019[df2019[\"GDP per capita\"] == maxGDP]"
   ]
  },
  {
   "cell_type": "code",
   "execution_count": null,
   "id": "e3d5029b",
   "metadata": {},
   "outputs": [],
   "source": [
    "minGDP = df2019[\"GDP per capita\"].min()\n",
    "df2019[df2019[\"GDP per capita\"] == minGDP]"
   ]
  },
  {
   "cell_type": "markdown",
   "id": "8539c929",
   "metadata": {},
   "source": [
    "## Create new columns based on existing columns"
   ]
  },
  {
   "cell_type": "code",
   "execution_count": null,
   "id": "d5291db3",
   "metadata": {},
   "outputs": [],
   "source": [
    "df2019[\"Generosity new\"] = df2019[\"Generosity\"] * 100"
   ]
  },
  {
   "cell_type": "code",
   "execution_count": null,
   "id": "dda959af",
   "metadata": {},
   "outputs": [],
   "source": [
    "df2019[\"Generosity new\"]"
   ]
  },
  {
   "cell_type": "markdown",
   "id": "2eb5acb3",
   "metadata": {},
   "source": [
    "## Counting"
   ]
  },
  {
   "cell_type": "code",
   "execution_count": null,
   "id": "ae75f9cc",
   "metadata": {},
   "outputs": [],
   "source": [
    "df2016 = pd.read_csv(\"data/happiness/2016.csv\")"
   ]
  },
  {
   "cell_type": "code",
   "execution_count": null,
   "id": "44a8ad70",
   "metadata": {},
   "outputs": [],
   "source": [
    "df2016.Region.value_counts()"
   ]
  },
  {
   "cell_type": "markdown",
   "id": "75f40101",
   "metadata": {},
   "source": [
    "##### Compute proportions"
   ]
  },
  {
   "cell_type": "code",
   "execution_count": null,
   "id": "5b97ec3d",
   "metadata": {},
   "outputs": [],
   "source": [
    "df2016.Region.value_counts(normalize=True)"
   ]
  },
  {
   "cell_type": "markdown",
   "id": "640dbf58",
   "metadata": {},
   "source": [
    "##### Select multiple columns"
   ]
  },
  {
   "cell_type": "code",
   "execution_count": null,
   "id": "7dfa1076",
   "metadata": {},
   "outputs": [],
   "source": [
    "df2016.value_counts(subset=[\"Region\", \"Country\"])"
   ]
  },
  {
   "cell_type": "markdown",
   "id": "fb78bc3e",
   "metadata": {},
   "source": [
    "## Aggregating data"
   ]
  },
  {
   "cell_type": "markdown",
   "id": "ba79fd5f",
   "metadata": {},
   "source": [
    "Data aggregation is any process whereby data is gathered and expressed in a summary form."
   ]
  },
  {
   "cell_type": "code",
   "execution_count": null,
   "id": "45536073",
   "metadata": {},
   "outputs": [],
   "source": [
    "df2016.groupby(\"Region\").mean()"
   ]
  },
  {
   "cell_type": "markdown",
   "id": "d8448064",
   "metadata": {},
   "source": [
    "##### Sort by happiness score"
   ]
  },
  {
   "cell_type": "code",
   "execution_count": null,
   "id": "8a087e30",
   "metadata": {},
   "outputs": [],
   "source": [
    "df2016.groupby(\"Region\").mean().sort_values(by='Happiness Score', ascending=False)"
   ]
  },
  {
   "cell_type": "markdown",
   "id": "d8a6bcd8",
   "metadata": {},
   "source": [
    "Calculate the mean only for a specific column."
   ]
  },
  {
   "cell_type": "code",
   "execution_count": null,
   "id": "7bcb86bc",
   "metadata": {},
   "outputs": [],
   "source": [
    "df2016.groupby(\"Region\")[\"Happiness Score\"].mean()"
   ]
  },
  {
   "cell_type": "markdown",
   "id": "ba250dcc",
   "metadata": {},
   "source": [
    "Sort values."
   ]
  },
  {
   "cell_type": "code",
   "execution_count": null,
   "id": "d3f2c9ee",
   "metadata": {},
   "outputs": [],
   "source": [
    "df2016.groupby(\"Region\")[\"Happiness Score\"].mean().sort_values()"
   ]
  },
  {
   "cell_type": "markdown",
   "id": "a7d06fc4",
   "metadata": {},
   "source": [
    "##### Alternative way"
   ]
  },
  {
   "cell_type": "code",
   "execution_count": null,
   "id": "f77a0cea",
   "metadata": {},
   "outputs": [],
   "source": [
    "df2016.groupby(\"Region\").agg('mean')"
   ]
  },
  {
   "cell_type": "code",
   "execution_count": null,
   "id": "346a5a5c",
   "metadata": {
    "scrolled": false
   },
   "outputs": [],
   "source": [
    "df2016.groupby(\"Region\").agg({\"Happiness Score\": [\"sum\", \"mean\"]})"
   ]
  },
  {
   "cell_type": "markdown",
   "id": "fe1d523e",
   "metadata": {},
   "source": [
    "# Data visualization"
   ]
  },
  {
   "cell_type": "code",
   "execution_count": null,
   "id": "4dce0e45",
   "metadata": {},
   "outputs": [],
   "source": [
    "display(Image(filename='data/images/cute_panda_painting.jpg'))"
   ]
  },
  {
   "cell_type": "code",
   "execution_count": null,
   "id": "080edd6c",
   "metadata": {},
   "outputs": [],
   "source": [
    "#Make the graphs a bit prettier\n",
    "plt.style.use('ggplot')"
   ]
  },
  {
   "cell_type": "markdown",
   "id": "747a4811",
   "metadata": {},
   "source": [
    "## Using pandas' plotting functions"
   ]
  },
  {
   "cell_type": "markdown",
   "id": "3cb2535d",
   "metadata": {},
   "source": [
    "### Bar plots"
   ]
  },
  {
   "cell_type": "code",
   "execution_count": null,
   "id": "b22a8a0f",
   "metadata": {},
   "outputs": [],
   "source": [
    "df2019.columns"
   ]
  },
  {
   "cell_type": "markdown",
   "id": "afe4777e",
   "metadata": {},
   "source": [
    "##### Number of countries per region"
   ]
  },
  {
   "cell_type": "code",
   "execution_count": null,
   "id": "cc41503a",
   "metadata": {},
   "outputs": [],
   "source": [
    "df2016[\"Region\"].value_counts().plot.bar()"
   ]
  },
  {
   "cell_type": "markdown",
   "id": "0ff5bcf6",
   "metadata": {},
   "source": [
    "##### Happiness scores per region (sorted)"
   ]
  },
  {
   "cell_type": "code",
   "execution_count": null,
   "id": "06c5e928",
   "metadata": {},
   "outputs": [],
   "source": [
    "df2016.groupby(\"Region\")[\"Happiness Score\"].mean().sort_values().plot.bar()"
   ]
  },
  {
   "cell_type": "markdown",
   "id": "d68e1655",
   "metadata": {},
   "source": [
    "##### Adjust image size"
   ]
  },
  {
   "cell_type": "code",
   "execution_count": null,
   "id": "57a258f4",
   "metadata": {},
   "outputs": [],
   "source": [
    "_, ax = plt.subplots(1, 1, figsize=(9, 9))\n",
    "\n",
    "df2016.groupby(\"Region\")[\"Happiness Score\"].mean().sort_values().plot.bar(ax=ax)"
   ]
  },
  {
   "cell_type": "markdown",
   "id": "3707eea8",
   "metadata": {},
   "source": [
    "### Histograms"
   ]
  },
  {
   "cell_type": "code",
   "execution_count": null,
   "id": "82a18314",
   "metadata": {},
   "outputs": [],
   "source": [
    "df2016[\"Happiness Score\"].plot.hist()"
   ]
  },
  {
   "cell_type": "markdown",
   "id": "00b31cf6",
   "metadata": {},
   "source": [
    "### Boxplots"
   ]
  },
  {
   "cell_type": "code",
   "execution_count": null,
   "id": "1ff45694",
   "metadata": {},
   "outputs": [],
   "source": [
    "display(Image(filename='data/images/cute_panda_box.jpg'))"
   ]
  },
  {
   "cell_type": "markdown",
   "id": "19196cf7",
   "metadata": {},
   "source": [
    "In descriptive statistics, a box plot or boxplot (also known as a box and whisker plot) is a type of chart often used in explanatory data analysis. Box plots visually show the distribution of numerical data and skewness by displaying the data quartiles (or percentiles) and averages.\n",
    "\n",
    "Box plots show the five-number summary of a set of data: including the minimum score, first (lower) quartile, median, third (upper) quartile, and maximum score."
   ]
  },
  {
   "cell_type": "code",
   "execution_count": null,
   "id": "c57917c8",
   "metadata": {},
   "outputs": [],
   "source": [
    "display(Image(filename='data/images/box-whisker-plot.jpg'))"
   ]
  },
  {
   "cell_type": "code",
   "execution_count": null,
   "id": "ede25042",
   "metadata": {},
   "outputs": [],
   "source": [
    "def rotateXaxesLabels(ax, rotation=90):\n",
    "    ax.set_xticklabels(ax.get_xticklabels(), rotation=rotation)"
   ]
  },
  {
   "cell_type": "markdown",
   "id": "5e4c98bc",
   "metadata": {},
   "source": [
    "##### Happiness score per region"
   ]
  },
  {
   "cell_type": "code",
   "execution_count": null,
   "id": "6490a0e4",
   "metadata": {},
   "outputs": [],
   "source": [
    "_, ax = plt.subplots(1, 1, figsize=(7, 7))\n",
    "\n",
    "df2016.boxplot(column=[\"Happiness Score\"], by=\"Region\", ax=ax)\n",
    "rotateXaxesLabels(ax)\n",
    "\n",
    "plt.tight_layout()"
   ]
  },
  {
   "cell_type": "markdown",
   "id": "9ebfaeea",
   "metadata": {},
   "source": [
    "##### Sorted boxplot"
   ]
  },
  {
   "cell_type": "code",
   "execution_count": null,
   "id": "b4e3852e",
   "metadata": {},
   "outputs": [],
   "source": [
    "grouped = df2016.groupby(\"Region\")\n",
    "df2016Boxplot = pd.DataFrame({region: values[\"Happiness Score\"] for region, values in grouped})\n",
    "medians = df2016Boxplot.median()\n",
    "medians = medians.sort_values()\n",
    "\n",
    "#df2016Boxplot.boxplot()"
   ]
  },
  {
   "cell_type": "code",
   "execution_count": null,
   "id": "b67e8f5f",
   "metadata": {},
   "outputs": [],
   "source": [
    "medians.index"
   ]
  },
  {
   "cell_type": "code",
   "execution_count": null,
   "id": "e3085808",
   "metadata": {},
   "outputs": [],
   "source": [
    "df2016Boxplot = df2016Boxplot[medians.index]\n",
    "ax = df2016Boxplot.boxplot()\n",
    "rotateXaxesLabels(ax)"
   ]
  },
  {
   "cell_type": "markdown",
   "id": "79990433",
   "metadata": {},
   "source": [
    "### Scatterplot"
   ]
  },
  {
   "cell_type": "markdown",
   "id": "d5d2790f",
   "metadata": {},
   "source": [
    "##### Happiness - freedom"
   ]
  },
  {
   "cell_type": "code",
   "execution_count": null,
   "id": "ca6a5a73",
   "metadata": {},
   "outputs": [],
   "source": [
    "df2016.plot.scatter(x=\"Freedom\", y=\"Happiness Score\")"
   ]
  },
  {
   "cell_type": "markdown",
   "id": "876f8861",
   "metadata": {},
   "source": [
    "##### Happiness - economy"
   ]
  },
  {
   "cell_type": "code",
   "execution_count": null,
   "id": "201a6799",
   "metadata": {},
   "outputs": [],
   "source": [
    "df2016.plot.scatter(x=\"Economy (GDP per Capita)\", y=\"Happiness Score\")"
   ]
  },
  {
   "cell_type": "markdown",
   "id": "ae819538",
   "metadata": {},
   "source": [
    "##### Happiness - Trust (Government Corruption)"
   ]
  },
  {
   "cell_type": "code",
   "execution_count": null,
   "id": "cbffe4d8",
   "metadata": {},
   "outputs": [],
   "source": [
    "df2016.plot.scatter(x=\"Trust (Government Corruption)\", y=\"Happiness Score\")"
   ]
  },
  {
   "cell_type": "markdown",
   "id": "80f72bcf",
   "metadata": {},
   "source": [
    "##### Corrupt but happy countries"
   ]
  },
  {
   "cell_type": "code",
   "execution_count": null,
   "id": "6349a185",
   "metadata": {},
   "outputs": [],
   "source": [
    "dfCorruptButHappy = df2016[(df2016[\"Trust (Government Corruption)\"] < 0.05) & (df2016[\"Happiness Score\"] > 6)]\n",
    "\n",
    "corruptButHappyCountries = set(dfCorruptButHappy[\"Country\"])"
   ]
  },
  {
   "cell_type": "code",
   "execution_count": null,
   "id": "a90445b4",
   "metadata": {},
   "outputs": [],
   "source": [
    "corruptButHappyCountries"
   ]
  },
  {
   "cell_type": "code",
   "execution_count": null,
   "id": "aaf1d5f1",
   "metadata": {},
   "outputs": [],
   "source": [
    "colors = [\"red\" if country in corruptButHappyCountries else \"blue\" for country in df2016[\"Country\"]]"
   ]
  },
  {
   "cell_type": "code",
   "execution_count": null,
   "id": "e7c92022",
   "metadata": {},
   "outputs": [],
   "source": [
    "df2016.plot.scatter(x=\"Trust (Government Corruption)\", y=\"Happiness Score\", color=colors)"
   ]
  },
  {
   "cell_type": "markdown",
   "id": "072bcafe",
   "metadata": {},
   "source": [
    "## Using seaborn"
   ]
  },
  {
   "cell_type": "markdown",
   "id": "17830859",
   "metadata": {},
   "source": [
    "### Bar plots"
   ]
  },
  {
   "cell_type": "markdown",
   "id": "01f9185b",
   "metadata": {},
   "source": [
    "##### Number of countries per region"
   ]
  },
  {
   "cell_type": "code",
   "execution_count": null,
   "id": "0fcd7536",
   "metadata": {},
   "outputs": [],
   "source": [
    "ax = sns.countplot(data=df2016, x=\"Region\")\n",
    "rotateXaxesLabels(ax)"
   ]
  },
  {
   "cell_type": "markdown",
   "id": "faaae007",
   "metadata": {},
   "source": [
    "##### Happiness scores per region (sorted)"
   ]
  },
  {
   "cell_type": "code",
   "execution_count": null,
   "id": "cdfacd8a",
   "metadata": {},
   "outputs": [],
   "source": [
    "df2016[\"Region\"].value_counts()"
   ]
  },
  {
   "cell_type": "code",
   "execution_count": null,
   "id": "822ed51d",
   "metadata": {},
   "outputs": [],
   "source": [
    "orderRegionsByHappiness = df2016.groupby(\"Region\")[\"Happiness Score\"].mean().sort_values().index"
   ]
  },
  {
   "cell_type": "code",
   "execution_count": null,
   "id": "d0711d8c",
   "metadata": {},
   "outputs": [],
   "source": [
    "ax = sns.barplot(data=df2016, x=\"Region\", y=\"Happiness Score\", order=orderRegionsByHappiness)\n",
    "rotateXaxesLabels(ax)"
   ]
  },
  {
   "cell_type": "markdown",
   "id": "8ec240ac",
   "metadata": {},
   "source": [
    "### Histograms"
   ]
  },
  {
   "cell_type": "code",
   "execution_count": null,
   "id": "824d27e8",
   "metadata": {},
   "outputs": [],
   "source": [
    "sns.histplot(data=df2016, x=\"Happiness Score\")"
   ]
  },
  {
   "cell_type": "markdown",
   "id": "de867b6f",
   "metadata": {},
   "source": [
    "### Boxplots"
   ]
  },
  {
   "cell_type": "markdown",
   "id": "0e403978",
   "metadata": {},
   "source": [
    "##### Happiness scores per region"
   ]
  },
  {
   "cell_type": "code",
   "execution_count": null,
   "id": "d0fbc690",
   "metadata": {},
   "outputs": [],
   "source": [
    "ax = sns.boxplot(data=df2016, x=\"Region\", y=\"Happiness Score\", order=orderRegionsByHappiness)\n",
    "rotateXaxesLabels(ax)"
   ]
  },
  {
   "cell_type": "markdown",
   "id": "d6751aef",
   "metadata": {},
   "source": [
    "### Scatterplots"
   ]
  },
  {
   "cell_type": "code",
   "execution_count": null,
   "id": "83b0f800",
   "metadata": {},
   "outputs": [],
   "source": [
    "df2016.columns"
   ]
  },
  {
   "cell_type": "code",
   "execution_count": null,
   "id": "64fd59a1",
   "metadata": {},
   "outputs": [],
   "source": [
    "sns.scatterplot(data=df2016, x=\"Generosity\", y=\"Happiness Score\")"
   ]
  },
  {
   "cell_type": "code",
   "execution_count": null,
   "id": "676f736d",
   "metadata": {},
   "outputs": [],
   "source": [
    "df2016[df2016[\"Generosity\"] > 0.8]"
   ]
  },
  {
   "cell_type": "markdown",
   "id": "cbff5593",
   "metadata": {},
   "source": [
    "##### Regression plot"
   ]
  },
  {
   "cell_type": "code",
   "execution_count": null,
   "id": "784941ae",
   "metadata": {},
   "outputs": [],
   "source": [
    "sns.regplot(data=df2016, x=\"Economy (GDP per Capita)\", y=\"Happiness Score\")"
   ]
  }
 ],
 "metadata": {
  "kernelspec": {
   "display_name": "Python 3 (ipykernel)",
   "language": "python",
   "name": "python3"
  },
  "language_info": {
   "codemirror_mode": {
    "name": "ipython",
    "version": 3
   },
   "file_extension": ".py",
   "mimetype": "text/x-python",
   "name": "python",
   "nbconvert_exporter": "python",
   "pygments_lexer": "ipython3",
   "version": "3.9.7"
  },
  "toc": {
   "base_numbering": 1,
   "nav_menu": {},
   "number_sections": true,
   "sideBar": true,
   "skip_h1_title": false,
   "title_cell": "Table of Contents",
   "title_sidebar": "Contents",
   "toc_cell": false,
   "toc_position": {
    "height": "calc(100% - 180px)",
    "left": "10px",
    "top": "150px",
    "width": "379.4px"
   },
   "toc_section_display": true,
   "toc_window_display": true
  }
 },
 "nbformat": 4,
 "nbformat_minor": 5
}
