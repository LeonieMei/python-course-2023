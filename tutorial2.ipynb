{
 "cells": [
  {
   "cell_type": "code",
   "execution_count": null,
   "id": "06e87aac",
   "metadata": {},
   "outputs": [],
   "source": [
    "import numpy as np\n",
    "import pandas as pd\n",
    "import seaborn as sns\n",
    "import matplotlib.pyplot as plt\n",
    "\n",
    "from IPython.display import Image, display\n",
    "\n",
    "#Make the graphs a bit prettier\n",
    "plt.style.use('ggplot')"
   ]
  },
  {
   "cell_type": "code",
   "execution_count": null,
   "id": "8f2f7634",
   "metadata": {},
   "outputs": [],
   "source": [
    "%matplotlib inline\n",
    "%load_ext autoreload\n",
    "%autoreload 2"
   ]
  },
  {
   "cell_type": "code",
   "execution_count": null,
   "id": "be851e8d",
   "metadata": {},
   "outputs": [],
   "source": [
    "# Data\n",
    "df2015 = pd.read_csv(\"data/happiness/2015.csv\")\n",
    "df2016 = pd.read_csv(\"data/happiness/2016.csv\")\n",
    "df2017 = pd.read_csv(\"data/happiness/2017.csv\")\n",
    "df2018 = pd.read_csv(\"data/happiness/2018.csv\")\n",
    "df2019 = pd.read_csv(\"data/happiness/2019.csv\")"
   ]
  },
  {
   "cell_type": "markdown",
   "id": "a1239048",
   "metadata": {},
   "source": [
    "# Slicing and extracting data"
   ]
  },
  {
   "cell_type": "code",
   "execution_count": null,
   "id": "cee60427",
   "metadata": {},
   "outputs": [],
   "source": [
    "display(Image(filename='data/images/cute_panda_slicing.jpg'))"
   ]
  },
  {
   "cell_type": "markdown",
   "id": "17630988",
   "metadata": {},
   "source": [
    "## Isolating one column"
   ]
  },
  {
   "cell_type": "code",
   "execution_count": null,
   "id": "2f821212",
   "metadata": {},
   "outputs": [],
   "source": [
    "df2019[\"Score\"]"
   ]
  },
  {
   "cell_type": "code",
   "execution_count": null,
   "id": "24a16e6b",
   "metadata": {},
   "outputs": [],
   "source": [
    "df2019.Score"
   ]
  },
  {
   "cell_type": "code",
   "execution_count": null,
   "id": "188ffb5e",
   "metadata": {},
   "outputs": [],
   "source": [
    "list(df2019.Score)"
   ]
  },
  {
   "cell_type": "code",
   "execution_count": null,
   "id": "96182c66",
   "metadata": {},
   "outputs": [],
   "source": [
    "list(df2019[\"Country or region\"])"
   ]
  },
  {
   "cell_type": "markdown",
   "id": "8f205acf",
   "metadata": {},
   "source": [
    "## Isolating multiple columns"
   ]
  },
  {
   "cell_type": "code",
   "execution_count": null,
   "id": "c00b0e9f",
   "metadata": {},
   "outputs": [],
   "source": [
    "df2019[[\"Score\", \"Social support\"]]"
   ]
  },
  {
   "cell_type": "markdown",
   "id": "35a2222b",
   "metadata": {},
   "source": [
    "## Isolating one row"
   ]
  },
  {
   "cell_type": "code",
   "execution_count": null,
   "id": "9bf3a2bf",
   "metadata": {},
   "outputs": [],
   "source": [
    "df2019.index"
   ]
  },
  {
   "cell_type": "code",
   "execution_count": null,
   "id": "e115c05e",
   "metadata": {},
   "outputs": [],
   "source": [
    "df2019.index == 0"
   ]
  },
  {
   "cell_type": "code",
   "execution_count": null,
   "id": "ce236892",
   "metadata": {},
   "outputs": [],
   "source": [
    "df2019[df2019.index == 0]"
   ]
  },
  {
   "cell_type": "markdown",
   "id": "ed6f2bb7",
   "metadata": {},
   "source": [
    "## Isolating multiple rows"
   ]
  },
  {
   "cell_type": "code",
   "execution_count": null,
   "id": "49ee6a55",
   "metadata": {},
   "outputs": [],
   "source": [
    "df2019[df2019.index.isin((0, 1))]"
   ]
  },
  {
   "cell_type": "markdown",
   "id": "1d21b633",
   "metadata": {},
   "source": [
    "## Isolating rows using loc (\"location\") and iloc (\"integer location\")"
   ]
  },
  {
   "cell_type": "code",
   "execution_count": null,
   "id": "68f54974",
   "metadata": {},
   "outputs": [],
   "source": [
    "# loc uses a label to point to a row, column or cell; iloc uses the numeric position\n",
    "df2019.index"
   ]
  },
  {
   "cell_type": "code",
   "execution_count": null,
   "id": "4edbd4f9",
   "metadata": {},
   "outputs": [],
   "source": [
    "df2019.index = range(1, 157)"
   ]
  },
  {
   "cell_type": "code",
   "execution_count": null,
   "id": "5af56a29",
   "metadata": {},
   "outputs": [],
   "source": [
    "df2019.index"
   ]
  },
  {
   "cell_type": "code",
   "execution_count": null,
   "id": "91ec5134",
   "metadata": {},
   "outputs": [],
   "source": [
    "df2019.loc[1]"
   ]
  },
  {
   "cell_type": "code",
   "execution_count": null,
   "id": "db5448f4",
   "metadata": {},
   "outputs": [],
   "source": [
    "df2019.iloc[1]"
   ]
  },
  {
   "cell_type": "code",
   "execution_count": null,
   "id": "ede7b1f5",
   "metadata": {},
   "outputs": [],
   "source": [
    "df2019.loc[1:10]"
   ]
  },
  {
   "cell_type": "code",
   "execution_count": null,
   "id": "ad105119",
   "metadata": {},
   "outputs": [],
   "source": [
    "df2019.iloc[1:10]"
   ]
  },
  {
   "cell_type": "markdown",
   "id": "921e4e03",
   "metadata": {},
   "source": [
    "### Selecting specific columns"
   ]
  },
  {
   "cell_type": "markdown",
   "id": "b8d255f9",
   "metadata": {},
   "source": [
    "Basic syntax: `df.loc[row_label, column_label]`"
   ]
  },
  {
   "cell_type": "code",
   "execution_count": null,
   "id": "96365132",
   "metadata": {},
   "outputs": [],
   "source": [
    "df2019.loc[1:10, \"Score\"]"
   ]
  },
  {
   "cell_type": "code",
   "execution_count": null,
   "id": "557f992b",
   "metadata": {},
   "outputs": [],
   "source": [
    "df2019.loc[1:10, [\"Country or region\", \"Score\"]]"
   ]
  },
  {
   "cell_type": "code",
   "execution_count": null,
   "id": "e756f6d9",
   "metadata": {},
   "outputs": [],
   "source": [
    "df2019.iloc[1:10, 1:3]"
   ]
  },
  {
   "cell_type": "markdown",
   "id": "739731bb",
   "metadata": {},
   "source": [
    "## Conditional slicing"
   ]
  },
  {
   "cell_type": "code",
   "execution_count": null,
   "id": "f1fe7335",
   "metadata": {},
   "outputs": [],
   "source": [
    "df2019.index == 10"
   ]
  },
  {
   "cell_type": "code",
   "execution_count": null,
   "id": "f8e0c7d5",
   "metadata": {},
   "outputs": [],
   "source": [
    "mask = df2019.index == 10"
   ]
  },
  {
   "cell_type": "code",
   "execution_count": null,
   "id": "1a225ecb",
   "metadata": {},
   "outputs": [],
   "source": [
    "df2019[mask]"
   ]
  },
  {
   "cell_type": "code",
   "execution_count": null,
   "id": "89a273c4",
   "metadata": {},
   "outputs": [],
   "source": [
    "df2019[df2019[\"Country or region\"] == \"Germany\"]"
   ]
  },
  {
   "cell_type": "code",
   "execution_count": null,
   "id": "bcde2fc2",
   "metadata": {},
   "outputs": [],
   "source": [
    "df2019[df2019[\"Overall rank\"] == 100]"
   ]
  },
  {
   "cell_type": "code",
   "execution_count": null,
   "id": "bc158c71",
   "metadata": {},
   "outputs": [],
   "source": [
    "df2019[df2019[\"Healthy life expectancy\"] > 0.9][\"Country or region\"]"
   ]
  },
  {
   "cell_type": "markdown",
   "id": "b776e010",
   "metadata": {},
   "source": [
    "### More than one condition"
   ]
  },
  {
   "cell_type": "code",
   "execution_count": null,
   "id": "73ae03d8",
   "metadata": {},
   "outputs": [],
   "source": [
    "df2019[(df2019[\"Healthy life expectancy\"] > 0.9) & (df2019[\"Social support\"] < 1.2)][\"Country or region\"]"
   ]
  },
  {
   "cell_type": "markdown",
   "id": "83785a6b",
   "metadata": {},
   "source": [
    "### Using the sum() method"
   ]
  },
  {
   "cell_type": "code",
   "execution_count": null,
   "id": "2a2c5b4c",
   "metadata": {},
   "outputs": [],
   "source": [
    "(df2019[\"Healthy life expectancy\"] > 0.9).sum()"
   ]
  },
  {
   "cell_type": "markdown",
   "id": "a2680885",
   "metadata": {},
   "source": [
    "# Cleaning data"
   ]
  },
  {
   "cell_type": "code",
   "execution_count": null,
   "id": "15b003e5",
   "metadata": {},
   "outputs": [],
   "source": [
    "display(Image(filename='data/images/cute_pandas_cleaning.jpg'))"
   ]
  },
  {
   "cell_type": "markdown",
   "id": "a6f3e7b3",
   "metadata": {},
   "source": [
    "[Pandas cleaning video](https://www.youtube.com/watch?v=R2uiy27Xv_U)"
   ]
  },
  {
   "cell_type": "code",
   "execution_count": null,
   "id": "cac86a6a",
   "metadata": {},
   "outputs": [],
   "source": [
    "df2019_withNulls.isnull().sum()"
   ]
  },
  {
   "cell_type": "markdown",
   "id": "9460875a",
   "metadata": {},
   "source": [
    "## Dropping missing values"
   ]
  },
  {
   "cell_type": "code",
   "execution_count": null,
   "id": "1208fbb6",
   "metadata": {},
   "outputs": [],
   "source": [
    "df2019_withNulls.shape"
   ]
  },
  {
   "cell_type": "code",
   "execution_count": null,
   "id": "40fd436b",
   "metadata": {},
   "outputs": [],
   "source": [
    "# Dropping all rows that have a null value\n",
    "df2019_withoutNulls1 = df2019_withNulls.dropna().shape"
   ]
  },
  {
   "cell_type": "code",
   "execution_count": null,
   "id": "5376d8db",
   "metadata": {},
   "outputs": [],
   "source": [
    "# Dropping all columns that have a null value\n",
    "df2019_withoutNulls2 = df2019_withNulls.dropna(axis=1).shape"
   ]
  },
  {
   "cell_type": "markdown",
   "id": "b9ee8275",
   "metadata": {},
   "source": [
    "## Replacing missing values"
   ]
  },
  {
   "cell_type": "code",
   "execution_count": null,
   "id": "4b0baa84",
   "metadata": {},
   "outputs": [],
   "source": [
    "meanScore = df2019_withNulls[\"Score\"].mean()"
   ]
  },
  {
   "cell_type": "code",
   "execution_count": null,
   "id": "27aa183a",
   "metadata": {},
   "outputs": [],
   "source": [
    "meanScore"
   ]
  },
  {
   "cell_type": "code",
   "execution_count": null,
   "id": "5d7a1d8f",
   "metadata": {},
   "outputs": [],
   "source": [
    "# Using fillna() method\n",
    "df2019_withNulls.fillna(meanScore)[\"Score\"]"
   ]
  },
  {
   "cell_type": "code",
   "execution_count": null,
   "id": "d5f53060",
   "metadata": {},
   "outputs": [],
   "source": [
    "# Alternatively with loc\n",
    "df2019_withNulls.loc[df2019_withNulls[\"Score\"].isna()] = meanScore"
   ]
  },
  {
   "cell_type": "code",
   "execution_count": null,
   "id": "29350a21",
   "metadata": {},
   "outputs": [],
   "source": [
    "df2019_withNulls[\"Score\"]"
   ]
  },
  {
   "cell_type": "markdown",
   "id": "cc31b770",
   "metadata": {},
   "source": [
    "## Dealing with duplicate data"
   ]
  },
  {
   "cell_type": "code",
   "execution_count": null,
   "id": "6e33d1f8",
   "metadata": {},
   "outputs": [],
   "source": [
    "df2019Dupl = pd.concat([df2019, df2019])"
   ]
  },
  {
   "cell_type": "code",
   "execution_count": null,
   "id": "453d548f",
   "metadata": {},
   "outputs": [],
   "source": [
    "df2019Dupl.shape"
   ]
  },
  {
   "cell_type": "code",
   "execution_count": null,
   "id": "68ab3047",
   "metadata": {},
   "outputs": [],
   "source": [
    "(df2019Dupl[\"Country or region\"] == \"Germany\").sum()"
   ]
  },
  {
   "cell_type": "code",
   "execution_count": null,
   "id": "667cbf22",
   "metadata": {},
   "outputs": [],
   "source": [
    "df2019Dupl.drop_duplicates().shape"
   ]
  },
  {
   "cell_type": "markdown",
   "id": "128680b7",
   "metadata": {},
   "source": [
    "## Renaming columns"
   ]
  },
  {
   "cell_type": "code",
   "execution_count": null,
   "id": "4b07254e",
   "metadata": {},
   "outputs": [],
   "source": [
    "df2015 = pd.read_csv(\"data/happiness/2015.csv\")"
   ]
  },
  {
   "cell_type": "markdown",
   "id": "a71aea14",
   "metadata": {},
   "source": [
    "### Renaming individual columns"
   ]
  },
  {
   "cell_type": "code",
   "execution_count": null,
   "id": "15af660c",
   "metadata": {},
   "outputs": [],
   "source": [
    "df2015.columns"
   ]
  },
  {
   "cell_type": "markdown",
   "id": "59ac565e",
   "metadata": {},
   "source": [
    "##### What is the Dystopia Residual?\n",
    "\n",
    "So in that report, this year the awesomest country is Finland - and then, as a baseline (and maybe to avoid dumping on Afghanistan all the time) they make up a hypothetical worst-country-in-the-world, which has the Central African Republic's life expectancy, Somalia's corruption, and so on. They call that country Dystopia.\n",
    "If you draw a line connecting those two countries, that line gives you a rough idea how fast happiness increases as you improve the various criteria.\n",
    "\n",
    "If you plug your country's life expectancy, corruption, etc into the line equation, it'll predict what your happiness rating should be. BUT...most countries don't fit the model perfectly. They're usually a little higher or lower than the prediction. The difference between the prediction and the actual value is called the residual. A positive residual means you're, for some reason, happier than the model would predict, and a negative residual means you're less happy for some reason. And a zero residual means you're exactly where the model predicted.\n",
    "\n",
    "In the data spreadsheet, instead of giving raw residuals, they give \"residual + Dystopia\", and I'm not sure why they do that. Dystopia's happiness rating is 1.97, so if you take all those values and subtract 1.97 you'll see the actual residuals. Singapore and Hong Kong, for example, have conspicuously low ones; something's going on in Hong Kong that their model doesn't normally look at, which is making the citizens less happy. Finland's residual is substantial and positive, so the model says they should be quite happy, and in fact they're even happier than that.\n",
    "\n",
    "Copied from [here](https://www.reddit.com/r/explainlikeimfive/comments/jdai5y/eli5_what_does_dystopian_residual_mean/)."
   ]
  },
  {
   "cell_type": "code",
   "execution_count": null,
   "id": "2fbd2726",
   "metadata": {},
   "outputs": [],
   "source": [
    "df2015 = df2015.rename(columns={\"Happiness Rank\": \"Rank\", \"Happiness Score\": \"Score\"})"
   ]
  },
  {
   "cell_type": "code",
   "execution_count": null,
   "id": "697370ee",
   "metadata": {},
   "outputs": [],
   "source": [
    "df2015.columns"
   ]
  },
  {
   "cell_type": "code",
   "execution_count": null,
   "id": "4fa06cad",
   "metadata": {},
   "outputs": [],
   "source": [
    "df2015.Region"
   ]
  },
  {
   "cell_type": "markdown",
   "id": "9c6befd2",
   "metadata": {},
   "source": [
    "### Renaming all columns"
   ]
  },
  {
   "cell_type": "code",
   "execution_count": null,
   "id": "6aea4f81",
   "metadata": {},
   "outputs": [],
   "source": [
    "newColumnNames = [\"These\", \"are\", \"just\", \"some\", \"really\", \"random\", \"column\", \"names\", \"that\", \"dont\", \n",
    "                  \"mean\", \"anything\"]"
   ]
  },
  {
   "cell_type": "code",
   "execution_count": null,
   "id": "84a9ff58",
   "metadata": {},
   "outputs": [],
   "source": [
    "df2015.columns = newColumnNames"
   ]
  },
  {
   "cell_type": "code",
   "execution_count": null,
   "id": "7befe7db",
   "metadata": {},
   "outputs": [],
   "source": [
    "df2015"
   ]
  },
  {
   "cell_type": "markdown",
   "id": "3f244506",
   "metadata": {},
   "source": [
    "### Replacing values"
   ]
  },
  {
   "cell_type": "code",
   "execution_count": null,
   "id": "894cd993",
   "metadata": {},
   "outputs": [],
   "source": [
    "df2019[\"Country or region\"].unique()"
   ]
  },
  {
   "cell_type": "code",
   "execution_count": null,
   "id": "4d234797",
   "metadata": {},
   "outputs": [],
   "source": [
    "df2019 = df2019.replace({\"Country or region\": {\"Germany\": \"Schland\", \"United States\": \"Murica\", \n",
    "                                               \"Australia\": \"Oz\"}})"
   ]
  },
  {
   "cell_type": "code",
   "execution_count": null,
   "id": "316c0cdc",
   "metadata": {
    "scrolled": true
   },
   "outputs": [],
   "source": [
    "sorted(df2019[\"Country or region\"].unique())"
   ]
  },
  {
   "cell_type": "code",
   "execution_count": null,
   "id": "20c0fdc0",
   "metadata": {},
   "outputs": [],
   "source": []
  }
 ],
 "metadata": {
  "kernelspec": {
   "display_name": "Python 3 (ipykernel)",
   "language": "python",
   "name": "python3"
  },
  "language_info": {
   "codemirror_mode": {
    "name": "ipython",
    "version": 3
   },
   "file_extension": ".py",
   "mimetype": "text/x-python",
   "name": "python",
   "nbconvert_exporter": "python",
   "pygments_lexer": "ipython3",
   "version": "3.9.7"
  },
  "toc": {
   "base_numbering": 1,
   "nav_menu": {},
   "number_sections": true,
   "sideBar": true,
   "skip_h1_title": false,
   "title_cell": "Table of Contents",
   "title_sidebar": "Contents",
   "toc_cell": false,
   "toc_position": {},
   "toc_section_display": true,
   "toc_window_display": false
  }
 },
 "nbformat": 4,
 "nbformat_minor": 5
}
