{
 "cells": [
  {
   "cell_type": "code",
   "execution_count": null,
   "id": "06e87aac",
   "metadata": {},
   "outputs": [],
   "source": [
    "import numpy as np\n",
    "import seaborn as sns\n",
    "import matplotlib.pyplot as plt\n",
    "\n",
    "from IPython.display import Image, display\n",
    "\n",
    "#Make the graphs a bit prettier\n",
    "plt.style.use('ggplot')"
   ]
  },
  {
   "cell_type": "code",
   "execution_count": null,
   "id": "8f2f7634",
   "metadata": {},
   "outputs": [],
   "source": [
    "%matplotlib inline\n",
    "%load_ext autoreload\n",
    "%autoreload 2"
   ]
  },
  {
   "cell_type": "markdown",
   "id": "45949bf9",
   "metadata": {},
   "source": [
    "# How to pandas"
   ]
  },
  {
   "cell_type": "code",
   "execution_count": null,
   "id": "421b5fec",
   "metadata": {},
   "outputs": [],
   "source": [
    "display(Image(filename='data/images/cute_panda.jpg'))"
   ]
  },
  {
   "cell_type": "markdown",
   "id": "14d509f5",
   "metadata": {},
   "source": [
    "## What is pandas and what is it used for?\n",
    "\n",
    "This tutorial is heavily based on [link1](https://www.datacamp.com/tutorial/pandas). Other sources include: [link2](https://www.edlitera.com/blog/posts/pandas-vs-excel-comparison#mcetoc_1gcticmbab) and [link3](https://www.datacamp.com/cheat-sheet/pandas-cheat-sheet-data-wrangling-in-python).\n",
    "\n",
    "* Most important Python package for data analysis (100 million downloads per month)\n",
    "    * cleaning, aggregating and analyzing data\n",
    "* works with tabular data (rows and columns - much like an excel sheet)\n",
    "* exemplary data manipulations: \n",
    "    * sorting rows, taking subsets, calculating summary statistics (e.g. mean, median etc.), reshaping data frames, joining data frames\n",
    "* works well with other popular Python data science packages such as \n",
    "    * NumPy (for numerical computing)\n",
    "    * Matplotlib, Seaborn, Plotly (for data visualization)\n",
    "    * scikit-learn for machine learning\n",
    "    \n",
    "### Used for...\n",
    "* Importing datasets from databases, spreadsheets, comma-separated values (CSV) files, and more\n",
    "* Cleaning datasets, for example, by dealing with missing values\n",
    "* Tidying datasets by reshaping their structure into a suitable format for analysis\n",
    "* Aggregating data by calculating summary statistics such as the mean of columns, correlation between them, and more.\n",
    "* Visualizing datasets and uncovering insights\n",
    "* for time series analysis and text analysis"
   ]
  },
  {
   "cell_type": "markdown",
   "id": "db1b9f5c",
   "metadata": {},
   "source": [
    "## Why is it better than excel?"
   ]
  },
  {
   "cell_type": "markdown",
   "id": "51ad950e",
   "metadata": {},
   "source": [
    "* Scalability -  Pandas is only limited by hardware and can manipulate larger quantities of data.\n",
    "* Speed -  Pandas is much faster than Excel, which is especially noticeable when working with larger quantities of data.\n",
    "* Automation -  A lot of the tasks that can be achieved with Pandas are extremely easy to automate, reducing the amount of tedious and repetitive tasks that need to be performed daily.\n",
    "* Interpretability -  It is very easy to interpret what happens when each task is run, and it is relatively easy to find and fix errors.\n",
    "* Advanced Functions - Performing advanced statistical analysis and creating complex visualizations is very straightforward, easy transition to machine learning analyses."
   ]
  },
  {
   "cell_type": "markdown",
   "id": "e85609b6",
   "metadata": {},
   "source": [
    "## Pandas data structures"
   ]
  },
  {
   "cell_type": "code",
   "execution_count": null,
   "id": "fd4e8b4f",
   "metadata": {},
   "outputs": [],
   "source": [
    "display(Image(filename='data/images/pandas-structures.png'))"
   ]
  },
  {
   "cell_type": "code",
   "execution_count": null,
   "id": "4a303781",
   "metadata": {},
   "outputs": [],
   "source": [
    "display(Image(filename='data/images/pandas-df.png'))"
   ]
  },
  {
   "cell_type": "markdown",
   "id": "a92ff719",
   "metadata": {},
   "source": [
    "# Getting started"
   ]
  },
  {
   "cell_type": "code",
   "execution_count": null,
   "id": "5320fd49",
   "metadata": {},
   "outputs": [],
   "source": [
    "display(Image(filename='data/images/cute_panda_working.jpg'))"
   ]
  },
  {
   "cell_type": "markdown",
   "id": "e08a99ef",
   "metadata": {},
   "source": [
    "## Installation\n",
    "\n",
    "`pip install pandas`\n",
    "\n",
    "`conda install pandas`"
   ]
  },
  {
   "cell_type": "code",
   "execution_count": null,
   "id": "7eecb8fb",
   "metadata": {},
   "outputs": [],
   "source": [
    "import pandas as pd"
   ]
  },
  {
   "cell_type": "markdown",
   "id": "32d610be",
   "metadata": {},
   "source": [
    "## Importing data from csv files"
   ]
  },
  {
   "cell_type": "code",
   "execution_count": null,
   "id": "50c22012",
   "metadata": {},
   "outputs": [],
   "source": [
    "df2019 = pd.read_csv(\"data/happiness/2019.csv\")"
   ]
  },
  {
   "cell_type": "code",
   "execution_count": null,
   "id": "d6abee4f",
   "metadata": {},
   "outputs": [],
   "source": [
    "df2019"
   ]
  },
  {
   "cell_type": "markdown",
   "id": "414c41f9",
   "metadata": {},
   "source": [
    "## Importing data from excel files (single sheet)"
   ]
  },
  {
   "cell_type": "code",
   "execution_count": null,
   "id": "1a8c34e2",
   "metadata": {},
   "outputs": [],
   "source": [
    "df2019 = pd.read_excel(\"data/happiness/2019.xlsx\")"
   ]
  },
  {
   "cell_type": "code",
   "execution_count": null,
   "id": "e220d057",
   "metadata": {},
   "outputs": [],
   "source": [
    "df2019"
   ]
  },
  {
   "cell_type": "markdown",
   "id": "396fa211",
   "metadata": {},
   "source": [
    "## Importing data from excel files (multiple sheets)"
   ]
  },
  {
   "cell_type": "code",
   "execution_count": null,
   "id": "0c2603a7",
   "metadata": {},
   "outputs": [],
   "source": [
    "df2018 = pd.read_excel(\"data/happiness/2018_2019.xlsx\", sheet_name=\"2018\")\n",
    "df2019 = pd.read_excel(\"data/happiness/2018_2019.xlsx\", sheet_name=\"2019\")"
   ]
  },
  {
   "cell_type": "markdown",
   "id": "af7ba870",
   "metadata": {},
   "source": [
    "## Saving a dataframe to a csv/tsv file"
   ]
  },
  {
   "cell_type": "code",
   "execution_count": null,
   "id": "31665d6f",
   "metadata": {},
   "outputs": [],
   "source": [
    "df2018.to_csv(\"data/happiness/2018.csv\", index=False)"
   ]
  },
  {
   "cell_type": "markdown",
   "id": "9e43c09f",
   "metadata": {},
   "source": [
    "## Saving a dataframe to an excel file"
   ]
  },
  {
   "cell_type": "code",
   "execution_count": null,
   "id": "c86ef1a9",
   "metadata": {},
   "outputs": [],
   "source": [
    "df2018.to_excel(\"data/happiness/2018.xlsx\", index=False)"
   ]
  },
  {
   "cell_type": "code",
   "execution_count": null,
   "id": "fff7a866",
   "metadata": {},
   "outputs": [],
   "source": [
    "# # Multiple sheets\n",
    "\n",
    "# # Create a Pandas Excel writer using XlsxWriter as the engine.\n",
    "# writer = pd.ExcelWriter(\"data/happiness/2018_2019.xlsx\", engine=\"xlsxwriter\")\n",
    "\n",
    "# df2018.to_excel(writer, index=False, sheet_name=\"2018\")\n",
    "# df2019.to_excel(writer, index=False, sheet_name=\"2019\")\n",
    "\n",
    "# # Close the Pandas Excel writer and output the Excel file.\n",
    "# writer.close()"
   ]
  },
  {
   "cell_type": "markdown",
   "id": "7cb273a4",
   "metadata": {},
   "source": [
    "## Other fileformats"
   ]
  },
  {
   "cell_type": "code",
   "execution_count": null,
   "id": "a7c25db0",
   "metadata": {},
   "outputs": [],
   "source": [
    "df2019 = pd.read_csv(\"data/happiness/2019.tsv\")"
   ]
  },
  {
   "cell_type": "code",
   "execution_count": null,
   "id": "0c5ae6da",
   "metadata": {},
   "outputs": [],
   "source": [
    "#df2019"
   ]
  },
  {
   "cell_type": "code",
   "execution_count": null,
   "id": "904f853e",
   "metadata": {},
   "outputs": [],
   "source": [
    "df2019 = pd.read_csv(\"data/happiness/2019.tsv\", sep=\"\\t\")"
   ]
  },
  {
   "cell_type": "code",
   "execution_count": null,
   "id": "cb83faea",
   "metadata": {},
   "outputs": [],
   "source": [
    "df2019.to_csv(\"data/happiness/2019.tsv\", sep=\"\\t\")"
   ]
  },
  {
   "cell_type": "markdown",
   "id": "5dc70160",
   "metadata": {},
   "source": [
    "# Viewing and understanding data frames"
   ]
  },
  {
   "cell_type": "code",
   "execution_count": null,
   "id": "e42efb12",
   "metadata": {},
   "outputs": [],
   "source": [
    "display(Image(filename='data/images/cute_panda_looking.jpg'))"
   ]
  },
  {
   "cell_type": "code",
   "execution_count": null,
   "id": "8f117960",
   "metadata": {},
   "outputs": [],
   "source": [
    "df2019.head()"
   ]
  },
  {
   "cell_type": "code",
   "execution_count": null,
   "id": "7501ace0",
   "metadata": {},
   "outputs": [],
   "source": [
    "df2019.tail(10)"
   ]
  },
  {
   "cell_type": "code",
   "execution_count": null,
   "id": "64ae3c5b",
   "metadata": {},
   "outputs": [],
   "source": [
    "# df2019[::-1]"
   ]
  },
  {
   "cell_type": "markdown",
   "id": "0e0c10a9",
   "metadata": {},
   "source": [
    "## Descriptive statistics"
   ]
  },
  {
   "cell_type": "code",
   "execution_count": null,
   "id": "7e4c17d8",
   "metadata": {},
   "outputs": [],
   "source": [
    "#pd.set_option('display.precision', 2)"
   ]
  },
  {
   "cell_type": "code",
   "execution_count": null,
   "id": "1a99e1a5",
   "metadata": {},
   "outputs": [],
   "source": [
    "df2019.describe()"
   ]
  },
  {
   "cell_type": "code",
   "execution_count": null,
   "id": "89b451a2",
   "metadata": {},
   "outputs": [],
   "source": [
    "df2019.describe(include=[float])"
   ]
  },
  {
   "cell_type": "code",
   "execution_count": null,
   "id": "550ad857",
   "metadata": {},
   "outputs": [],
   "source": [
    "df2019.describe().T"
   ]
  },
  {
   "cell_type": "code",
   "execution_count": null,
   "id": "a7ab751b",
   "metadata": {},
   "outputs": [],
   "source": [
    "df2019.info(show_counts=True, memory_usage=True, verbose=True)"
   ]
  },
  {
   "cell_type": "markdown",
   "id": "6d177cdd",
   "metadata": {},
   "source": [
    "## Dataframe dimensions"
   ]
  },
  {
   "cell_type": "code",
   "execution_count": null,
   "id": "e4437c17",
   "metadata": {},
   "outputs": [],
   "source": [
    "df2019.shape"
   ]
  },
  {
   "cell_type": "code",
   "execution_count": null,
   "id": "4c9bce10",
   "metadata": {},
   "outputs": [],
   "source": [
    "len(df2019)"
   ]
  },
  {
   "cell_type": "markdown",
   "id": "cf35158b",
   "metadata": {},
   "source": [
    "## Column names"
   ]
  },
  {
   "cell_type": "code",
   "execution_count": null,
   "id": "7cbbf4b2",
   "metadata": {},
   "outputs": [],
   "source": [
    "df2019.columns"
   ]
  },
  {
   "cell_type": "markdown",
   "id": "bbc282bf",
   "metadata": {},
   "source": [
    "## Null values"
   ]
  },
  {
   "cell_type": "code",
   "execution_count": null,
   "id": "6047244f",
   "metadata": {},
   "outputs": [],
   "source": [
    "df2019.isnull()"
   ]
  },
  {
   "cell_type": "code",
   "execution_count": null,
   "id": "934351bd",
   "metadata": {},
   "outputs": [],
   "source": [
    "# Get number of null values per column\n",
    "df2019.isnull().sum()"
   ]
  },
  {
   "cell_type": "code",
   "execution_count": null,
   "id": "5b881981",
   "metadata": {},
   "outputs": [],
   "source": [
    "## Add some null values to the dataframe\n",
    "\n",
    "df2019_withNulls = df2019.copy()\n",
    "df2019_withNulls.loc[2:6, \"Score\"] = None"
   ]
  },
  {
   "cell_type": "code",
   "execution_count": null,
   "id": "b79707e0",
   "metadata": {},
   "outputs": [],
   "source": [
    "df2019_withNulls.isnull().sum()"
   ]
  },
  {
   "cell_type": "code",
   "execution_count": null,
   "id": "744386f4",
   "metadata": {},
   "outputs": [],
   "source": [
    "# Get number of null values in total\n",
    "df2019_withNulls.isnull().sum().sum()"
   ]
  },
  {
   "cell_type": "code",
   "execution_count": null,
   "id": "5d80e43d",
   "metadata": {},
   "outputs": [],
   "source": []
  }
 ],
 "metadata": {
  "kernelspec": {
   "display_name": "Python 3 (ipykernel)",
   "language": "python",
   "name": "python3"
  },
  "language_info": {
   "codemirror_mode": {
    "name": "ipython",
    "version": 3
   },
   "file_extension": ".py",
   "mimetype": "text/x-python",
   "name": "python",
   "nbconvert_exporter": "python",
   "pygments_lexer": "ipython3",
   "version": "3.9.7"
  },
  "toc": {
   "base_numbering": 1,
   "nav_menu": {},
   "number_sections": true,
   "sideBar": true,
   "skip_h1_title": false,
   "title_cell": "Table of Contents",
   "title_sidebar": "Contents",
   "toc_cell": false,
   "toc_position": {},
   "toc_section_display": true,
   "toc_window_display": false
  }
 },
 "nbformat": 4,
 "nbformat_minor": 5
}
