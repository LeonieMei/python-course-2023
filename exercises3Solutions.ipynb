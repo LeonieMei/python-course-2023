{
 "cells": [
  {
   "cell_type": "code",
   "execution_count": 86,
   "id": "731e0c28",
   "metadata": {},
   "outputs": [],
   "source": [
    "import pandas as pd\n",
    "import seaborn as sns\n",
    "import matplotlib.pyplot as plt\n",
    "\n",
    "from IPython.display import Image, display"
   ]
  },
  {
   "cell_type": "code",
   "execution_count": 3,
   "id": "cd1e0679",
   "metadata": {},
   "outputs": [],
   "source": [
    "%matplotlib inline"
   ]
  },
  {
   "cell_type": "code",
   "execution_count": 5,
   "id": "fc79dc9f",
   "metadata": {},
   "outputs": [],
   "source": [
    "df = pd.read_csv(\"data/ufos/scrubbed.csv\")"
   ]
  },
  {
   "cell_type": "markdown",
   "id": "c07cd2e1",
   "metadata": {},
   "source": [
    "# Summary operators"
   ]
  },
  {
   "cell_type": "markdown",
   "id": "c5e93978",
   "metadata": {},
   "source": [
    "Compute the mean of all columns with a numeric data type."
   ]
  },
  {
   "cell_type": "code",
   "execution_count": 7,
   "id": "91a69583",
   "metadata": {},
   "outputs": [
    {
     "data": {
      "text/plain": [
       "duration (seconds)    9016.889016\n",
       "latitude                38.124416\n",
       "longitude              -86.772885\n",
       "dtype: float64"
      ]
     },
     "execution_count": 7,
     "metadata": {},
     "output_type": "execute_result"
    }
   ],
   "source": [
    "df.mean(numeric_only=True)"
   ]
  },
  {
   "cell_type": "markdown",
   "id": "1a16c248",
   "metadata": {},
   "source": [
    "Compute the mean ufo sighting duration."
   ]
  },
  {
   "cell_type": "code",
   "execution_count": 9,
   "id": "d59185c4",
   "metadata": {},
   "outputs": [
    {
     "data": {
      "text/plain": [
       "9016.889016344669"
      ]
     },
     "execution_count": 9,
     "metadata": {},
     "output_type": "execute_result"
    }
   ],
   "source": [
    "df[\"duration (seconds)\"].mean()"
   ]
  },
  {
   "cell_type": "markdown",
   "id": "09c9df4c",
   "metadata": {},
   "source": [
    "Compute the median ufo sighting duration."
   ]
  },
  {
   "cell_type": "code",
   "execution_count": 10,
   "id": "a078f75e",
   "metadata": {},
   "outputs": [
    {
     "data": {
      "text/plain": [
       "180.0"
      ]
     },
     "execution_count": 10,
     "metadata": {},
     "output_type": "execute_result"
    }
   ],
   "source": [
    "df[\"duration (seconds)\"].median()"
   ]
  },
  {
   "cell_type": "markdown",
   "id": "9317831a",
   "metadata": {},
   "source": [
    "Compute the standard deviation of the ufo sighting duration."
   ]
  },
  {
   "cell_type": "code",
   "execution_count": 11,
   "id": "0eff57a6",
   "metadata": {},
   "outputs": [
    {
     "data": {
      "text/plain": [
       "620216.790291459"
      ]
     },
     "execution_count": 11,
     "metadata": {},
     "output_type": "execute_result"
    }
   ],
   "source": [
    "df[\"duration (seconds)\"].std()"
   ]
  },
  {
   "cell_type": "markdown",
   "id": "900ed081",
   "metadata": {},
   "source": [
    "Compute the minimum and maximum of the duration."
   ]
  },
  {
   "cell_type": "code",
   "execution_count": 12,
   "id": "4ac67a34",
   "metadata": {},
   "outputs": [],
   "source": [
    "minDuration = df[\"duration (seconds)\"].min()\n",
    "maxDuration = df[\"duration (seconds)\"].max()"
   ]
  },
  {
   "cell_type": "markdown",
   "id": "d7f1a7e6",
   "metadata": {},
   "source": [
    "Display the row with the maximum duration."
   ]
  },
  {
   "cell_type": "code",
   "execution_count": 19,
   "id": "d0ffe93d",
   "metadata": {},
   "outputs": [
    {
     "data": {
      "text/html": [
       "<div>\n",
       "<style scoped>\n",
       "    .dataframe tbody tr th:only-of-type {\n",
       "        vertical-align: middle;\n",
       "    }\n",
       "\n",
       "    .dataframe tbody tr th {\n",
       "        vertical-align: top;\n",
       "    }\n",
       "\n",
       "    .dataframe thead th {\n",
       "        text-align: right;\n",
       "    }\n",
       "</style>\n",
       "<table border=\"1\" class=\"dataframe\">\n",
       "  <thead>\n",
       "    <tr style=\"text-align: right;\">\n",
       "      <th></th>\n",
       "      <th>datetime</th>\n",
       "      <th>city</th>\n",
       "      <th>state</th>\n",
       "      <th>country</th>\n",
       "      <th>shape</th>\n",
       "      <th>duration (seconds)</th>\n",
       "      <th>duration (hours/min)</th>\n",
       "      <th>comments</th>\n",
       "      <th>date posted</th>\n",
       "      <th>latitude</th>\n",
       "      <th>longitude</th>\n",
       "    </tr>\n",
       "  </thead>\n",
       "  <tbody>\n",
       "    <tr>\n",
       "      <th>559</th>\n",
       "      <td>1983-10-01 17:00:00</td>\n",
       "      <td>birmingham (uk/england)</td>\n",
       "      <td>NaN</td>\n",
       "      <td>gb</td>\n",
       "      <td>sphere</td>\n",
       "      <td>97836000.0</td>\n",
       "      <td>31 years</td>\n",
       "      <td>Firstly&amp;#44 I was stunned and stared at the ob...</td>\n",
       "      <td>4/12/2013</td>\n",
       "      <td>52.466667</td>\n",
       "      <td>-1.916667</td>\n",
       "    </tr>\n",
       "  </tbody>\n",
       "</table>\n",
       "</div>"
      ],
      "text/plain": [
       "                datetime                     city state country   shape  \\\n",
       "559  1983-10-01 17:00:00  birmingham (uk/england)   NaN      gb  sphere   \n",
       "\n",
       "     duration (seconds) duration (hours/min)  \\\n",
       "559          97836000.0             31 years   \n",
       "\n",
       "                                              comments date posted   latitude  \\\n",
       "559  Firstly&#44 I was stunned and stared at the ob...   4/12/2013  52.466667   \n",
       "\n",
       "     longitude  \n",
       "559  -1.916667  "
      ]
     },
     "execution_count": 19,
     "metadata": {},
     "output_type": "execute_result"
    }
   ],
   "source": [
    "df[df[\"duration (seconds)\"] == maxDuration]"
   ]
  },
  {
   "cell_type": "markdown",
   "id": "c7d0f977",
   "metadata": {},
   "source": [
    "# Data manipulation"
   ]
  },
  {
   "cell_type": "markdown",
   "id": "4f7ce67f",
   "metadata": {},
   "source": [
    "Create a new column with the sighting durations in minutes (instead of seconds)."
   ]
  },
  {
   "cell_type": "code",
   "execution_count": 21,
   "id": "46877e48",
   "metadata": {},
   "outputs": [],
   "source": [
    "df[\"duration (minutes)\"] = df[\"duration (seconds)\"] / 60"
   ]
  },
  {
   "cell_type": "markdown",
   "id": "d1361edc",
   "metadata": {},
   "source": [
    "Display both of these columns."
   ]
  },
  {
   "cell_type": "code",
   "execution_count": 23,
   "id": "f6e33cad",
   "metadata": {},
   "outputs": [
    {
     "data": {
      "text/html": [
       "<div>\n",
       "<style scoped>\n",
       "    .dataframe tbody tr th:only-of-type {\n",
       "        vertical-align: middle;\n",
       "    }\n",
       "\n",
       "    .dataframe tbody tr th {\n",
       "        vertical-align: top;\n",
       "    }\n",
       "\n",
       "    .dataframe thead th {\n",
       "        text-align: right;\n",
       "    }\n",
       "</style>\n",
       "<table border=\"1\" class=\"dataframe\">\n",
       "  <thead>\n",
       "    <tr style=\"text-align: right;\">\n",
       "      <th></th>\n",
       "      <th>duration (seconds)</th>\n",
       "      <th>duration (minutes)</th>\n",
       "    </tr>\n",
       "  </thead>\n",
       "  <tbody>\n",
       "    <tr>\n",
       "      <th>0</th>\n",
       "      <td>2700.0</td>\n",
       "      <td>45.000000</td>\n",
       "    </tr>\n",
       "    <tr>\n",
       "      <th>1</th>\n",
       "      <td>7200.0</td>\n",
       "      <td>120.000000</td>\n",
       "    </tr>\n",
       "    <tr>\n",
       "      <th>2</th>\n",
       "      <td>20.0</td>\n",
       "      <td>0.333333</td>\n",
       "    </tr>\n",
       "    <tr>\n",
       "      <th>3</th>\n",
       "      <td>20.0</td>\n",
       "      <td>0.333333</td>\n",
       "    </tr>\n",
       "    <tr>\n",
       "      <th>4</th>\n",
       "      <td>900.0</td>\n",
       "      <td>15.000000</td>\n",
       "    </tr>\n",
       "    <tr>\n",
       "      <th>...</th>\n",
       "      <td>...</td>\n",
       "      <td>...</td>\n",
       "    </tr>\n",
       "    <tr>\n",
       "      <th>80327</th>\n",
       "      <td>600.0</td>\n",
       "      <td>10.000000</td>\n",
       "    </tr>\n",
       "    <tr>\n",
       "      <th>80328</th>\n",
       "      <td>1200.0</td>\n",
       "      <td>20.000000</td>\n",
       "    </tr>\n",
       "    <tr>\n",
       "      <th>80329</th>\n",
       "      <td>1200.0</td>\n",
       "      <td>20.000000</td>\n",
       "    </tr>\n",
       "    <tr>\n",
       "      <th>80330</th>\n",
       "      <td>5.0</td>\n",
       "      <td>0.083333</td>\n",
       "    </tr>\n",
       "    <tr>\n",
       "      <th>80331</th>\n",
       "      <td>1020.0</td>\n",
       "      <td>17.000000</td>\n",
       "    </tr>\n",
       "  </tbody>\n",
       "</table>\n",
       "<p>80332 rows × 2 columns</p>\n",
       "</div>"
      ],
      "text/plain": [
       "       duration (seconds)  duration (minutes)\n",
       "0                  2700.0           45.000000\n",
       "1                  7200.0          120.000000\n",
       "2                    20.0            0.333333\n",
       "3                    20.0            0.333333\n",
       "4                   900.0           15.000000\n",
       "...                   ...                 ...\n",
       "80327               600.0           10.000000\n",
       "80328              1200.0           20.000000\n",
       "80329              1200.0           20.000000\n",
       "80330                 5.0            0.083333\n",
       "80331              1020.0           17.000000\n",
       "\n",
       "[80332 rows x 2 columns]"
      ]
     },
     "execution_count": 23,
     "metadata": {},
     "output_type": "execute_result"
    }
   ],
   "source": [
    "df[[\"duration (seconds)\", \"duration (minutes)\"]]"
   ]
  },
  {
   "cell_type": "markdown",
   "id": "aa0a0fd6",
   "metadata": {},
   "source": [
    "# Counting"
   ]
  },
  {
   "cell_type": "markdown",
   "id": "49b2a159",
   "metadata": {},
   "source": [
    "Check how many sighting were reported for each country."
   ]
  },
  {
   "cell_type": "code",
   "execution_count": 24,
   "id": "eba5a885",
   "metadata": {},
   "outputs": [
    {
     "data": {
      "text/plain": [
       "us    65114\n",
       "ca     3000\n",
       "gb     1905\n",
       "au      538\n",
       "de      105\n",
       "Name: country, dtype: int64"
      ]
     },
     "execution_count": 24,
     "metadata": {},
     "output_type": "execute_result"
    }
   ],
   "source": [
    "df.country.value_counts()"
   ]
  },
  {
   "cell_type": "markdown",
   "id": "0740730b",
   "metadata": {},
   "source": [
    "Check the proportion of sightings per country."
   ]
  },
  {
   "cell_type": "code",
   "execution_count": 25,
   "id": "a9222f34",
   "metadata": {},
   "outputs": [
    {
     "data": {
      "text/plain": [
       "us    0.921485\n",
       "ca    0.042456\n",
       "gb    0.026959\n",
       "au    0.007614\n",
       "de    0.001486\n",
       "Name: country, dtype: float64"
      ]
     },
     "execution_count": 25,
     "metadata": {},
     "output_type": "execute_result"
    }
   ],
   "source": [
    "df.country.value_counts(normalize=True)"
   ]
  },
  {
   "cell_type": "markdown",
   "id": "70c2727e",
   "metadata": {},
   "source": [
    "Display the sightings for each combination of country and state."
   ]
  },
  {
   "cell_type": "code",
   "execution_count": 30,
   "id": "7ee8dcbd",
   "metadata": {},
   "outputs": [],
   "source": [
    "pd.set_option(\"display.max_rows\", 500)"
   ]
  },
  {
   "cell_type": "code",
   "execution_count": 33,
   "id": "6f074c6b",
   "metadata": {},
   "outputs": [
    {
     "data": {
      "text/plain": [
       "country  state\n",
       "us       ca       8912\n",
       "         wa       3966\n",
       "         fl       3835\n",
       "         tx       3447\n",
       "         ny       2980\n",
       "         il       2499\n",
       "         az       2414\n",
       "         pa       2366\n",
       "         oh       2275\n",
       "         mi       1836\n",
       "         or       1747\n",
       "         nc       1740\n",
       "         mo       1458\n",
       "         co       1413\n",
       "ca       on       1354\n",
       "us       in       1288\n",
       "         va       1273\n",
       "         ma       1256\n",
       "         nj       1255\n",
       "         ga       1255\n",
       "         wi       1232\n",
       "         tn       1119\n",
       "         mn       1012\n",
       "         sc       1003\n",
       "         ct        892\n",
       "         ky        855\n",
       "         md        837\n",
       "         nv        803\n",
       "         ok        724\n",
       "         nm        720\n",
       "ca       bc        691\n",
       "us       ia        678\n",
       "         al        642\n",
       "         ut        622\n",
       "         ks        613\n",
       "         ar        588\n",
       "         me        558\n",
       "         la        558\n",
       "         id        521\n",
       "         nh        486\n",
       "         mt        478\n",
       "         wv        448\n",
       "         ne        381\n",
       "         ms        375\n",
       "         ak        319\n",
       "ca       ab        288\n",
       "us       hi        262\n",
       "         vt        260\n",
       "         ri        228\n",
       "         sd        183\n",
       "         wy        175\n",
       "         de        166\n",
       "         nd        129\n",
       "ca       mb        127\n",
       "         qc        124\n",
       "         ns        101\n",
       "         nb         86\n",
       "         sk         78\n",
       "         pq         64\n",
       "         sa         27\n",
       "us       pr         25\n",
       "ca       nf         15\n",
       "         nt         13\n",
       "         pe         10\n",
       "us       dc          7\n",
       "ca       yt          5\n",
       "au       wa          2\n",
       "gb       ns          2\n",
       "au       sa          2\n",
       "ca       yk          2\n",
       "au       nt          2\n",
       "         yt          1\n",
       "         oh          1\n",
       "         dc          1\n",
       "gb       bc          1\n",
       "         la          1\n",
       "         ms          1\n",
       "         nc          1\n",
       "         nt          1\n",
       "         ri          1\n",
       "         sk          1\n",
       "         tn          1\n",
       "         wv          1\n",
       "         yt          1\n",
       "au       al          1\n",
       "dtype: int64"
      ]
     },
     "execution_count": 33,
     "metadata": {},
     "output_type": "execute_result"
    }
   ],
   "source": [
    "df[[\"country\", \"state\"]].value_counts()#(sort=False)"
   ]
  },
  {
   "cell_type": "markdown",
   "id": "340f89ee",
   "metadata": {},
   "source": [
    "# Aggregating data"
   ]
  },
  {
   "cell_type": "markdown",
   "id": "0e702f69",
   "metadata": {},
   "source": [
    "Display the mean sighting duration per country (Tip: use the `groupby` method)."
   ]
  },
  {
   "cell_type": "code",
   "execution_count": 40,
   "id": "710ab498",
   "metadata": {},
   "outputs": [
    {
     "data": {
      "text/plain": [
       "country\n",
       "au     3806.469238\n",
       "us     5800.014047\n",
       "de    24255.980952\n",
       "ca    28859.437007\n",
       "gb    66061.321207\n",
       "Name: duration (seconds), dtype: float64"
      ]
     },
     "execution_count": 40,
     "metadata": {},
     "output_type": "execute_result"
    }
   ],
   "source": [
    "df.groupby(\"country\")[\"duration (seconds)\"].mean()"
   ]
  },
  {
   "cell_type": "markdown",
   "id": "bfb98eae",
   "metadata": {},
   "source": [
    "Display the mean durations in a sorted order."
   ]
  },
  {
   "cell_type": "code",
   "execution_count": 42,
   "id": "2aa08d57",
   "metadata": {},
   "outputs": [
    {
     "data": {
      "text/plain": [
       "country\n",
       "ca    120.0\n",
       "au    180.0\n",
       "de    180.0\n",
       "gb    180.0\n",
       "us    180.0\n",
       "Name: duration (seconds), dtype: float64"
      ]
     },
     "execution_count": 42,
     "metadata": {},
     "output_type": "execute_result"
    }
   ],
   "source": [
    "df.groupby(\"country\")[\"duration (seconds)\"].mean().sort_values()"
   ]
  },
  {
   "cell_type": "markdown",
   "id": "7247b0b7",
   "metadata": {},
   "source": [
    "Display the mean durations in a sorted order."
   ]
  },
  {
   "cell_type": "code",
   "execution_count": 44,
   "id": "54d804b8",
   "metadata": {},
   "outputs": [
    {
     "data": {
      "text/plain": [
       "country\n",
       "au     3806.469238\n",
       "us     5800.014047\n",
       "de    24255.980952\n",
       "ca    28859.437007\n",
       "gb    66061.321207\n",
       "Name: duration (seconds), dtype: float64"
      ]
     },
     "execution_count": 44,
     "metadata": {},
     "output_type": "execute_result"
    }
   ],
   "source": [
    "df.groupby(\"country\")[\"duration (seconds)\"].mean().sort_values()"
   ]
  },
  {
   "cell_type": "markdown",
   "id": "7fc49f53",
   "metadata": {},
   "source": [
    "Do the same but with median instead of mean."
   ]
  },
  {
   "cell_type": "code",
   "execution_count": 45,
   "id": "e73338f6",
   "metadata": {},
   "outputs": [
    {
     "data": {
      "text/plain": [
       "country\n",
       "ca    120.0\n",
       "au    180.0\n",
       "de    180.0\n",
       "gb    180.0\n",
       "us    180.0\n",
       "Name: duration (seconds), dtype: float64"
      ]
     },
     "execution_count": 45,
     "metadata": {},
     "output_type": "execute_result"
    }
   ],
   "source": [
    "df.groupby(\"country\")[\"duration (seconds)\"].median().sort_values()"
   ]
  },
  {
   "cell_type": "markdown",
   "id": "bf42afd2",
   "metadata": {},
   "source": [
    "# Visualizing"
   ]
  },
  {
   "cell_type": "code",
   "execution_count": 50,
   "id": "fe588b2d",
   "metadata": {},
   "outputs": [],
   "source": [
    "#Make the graphs a bit prettier\n",
    "plt.style.use('ggplot')"
   ]
  },
  {
   "cell_type": "markdown",
   "id": "68c19039",
   "metadata": {},
   "source": [
    "## Barplots"
   ]
  },
  {
   "cell_type": "markdown",
   "id": "c6191563",
   "metadata": {},
   "source": [
    "Make a barplot showing the number of sightings per country (either using pandas' plotting methods or seaborn)."
   ]
  },
  {
   "cell_type": "code",
   "execution_count": 51,
   "id": "326addcb",
   "metadata": {},
   "outputs": [
    {
     "data": {
      "text/plain": [
       "<AxesSubplot:>"
      ]
     },
     "execution_count": 51,
     "metadata": {},
     "output_type": "execute_result"
    },
    {
     "data": {
      "image/png": "[encoded data removed]",
      "text/plain": [
       "<Figure size 432x288 with 1 Axes>"
      ]
     },
     "metadata": {},
     "output_type": "display_data"
    }
   ],
   "source": [
    "df[\"country\"].value_counts().plot.bar()"
   ]
  },
  {
   "cell_type": "code",
   "execution_count": 53,
   "id": "0619304a",
   "metadata": {},
   "outputs": [
    {
     "data": {
      "text/plain": [
       "<AxesSubplot:xlabel='country', ylabel='count'>"
      ]
     },
     "execution_count": 53,
     "metadata": {},
     "output_type": "execute_result"
    },
    {
     "data": {
      "image/png": "[encoded data removed]",
      "text/plain": [
       "<Figure size 432x288 with 1 Axes>"
      ]
     },
     "metadata": {},
     "output_type": "display_data"
    }
   ],
   "source": [
    "order = df[\"country\"].value_counts().index\n",
    "sns.countplot(data=df, x='country', order=order)"
   ]
  },
  {
   "cell_type": "markdown",
   "id": "321522d3",
   "metadata": {},
   "source": [
    "Make a barplot showing the mean sighting duration per country."
   ]
  },
  {
   "cell_type": "code",
   "execution_count": 61,
   "id": "f47d7fd7",
   "metadata": {},
   "outputs": [
    {
     "data": {
      "text/plain": [
       "<AxesSubplot:xlabel='country'>"
      ]
     },
     "execution_count": 61,
     "metadata": {},
     "output_type": "execute_result"
    },
    {
     "data": {
      "image/png": "[encoded data removed]",
      "text/plain": [
       "<Figure size 432x288 with 1 Axes>"
      ]
     },
     "metadata": {},
     "output_type": "display_data"
    }
   ],
   "source": [
    "df.groupby(\"country\")[\"duration (minutes)\"].mean().plot.bar() # .sort_values().plot.bar()"
   ]
  },
  {
   "cell_type": "code",
   "execution_count": 63,
   "id": "debddd7a",
   "metadata": {},
   "outputs": [
    {
     "data": {
      "text/plain": [
       "<AxesSubplot:xlabel='country', ylabel='duration (minutes)'>"
      ]
     },
     "execution_count": 63,
     "metadata": {},
     "output_type": "execute_result"
    },
    {
     "data": {
      "image/png": "[encoded data removed]",
      "text/plain": [
       "<Figure size 432x288 with 1 Axes>"
      ]
     },
     "metadata": {},
     "output_type": "display_data"
    }
   ],
   "source": [
    "order = df.groupby(\"country\")[\"duration (minutes)\"].mean().sort_values().index\n",
    "sns.barplot(data=df, x=\"country\", y=\"duration (minutes)\", order=order)"
   ]
  },
  {
   "cell_type": "markdown",
   "id": "029683e8",
   "metadata": {},
   "source": [
    "## Histograms"
   ]
  },
  {
   "cell_type": "markdown",
   "id": "d15730e7",
   "metadata": {},
   "source": [
    "Show the distribution of sighting durations (as a histogram)."
   ]
  },
  {
   "cell_type": "code",
   "execution_count": 67,
   "id": "08c42e96",
   "metadata": {},
   "outputs": [
    {
     "data": {
      "text/plain": [
       "<AxesSubplot:ylabel='Frequency'>"
      ]
     },
     "execution_count": 67,
     "metadata": {},
     "output_type": "execute_result"
    },
    {
     "data": {
      "image/png": "[encoded data removed]",
      "text/plain": [
       "<Figure size 432x288 with 1 Axes>"
      ]
     },
     "metadata": {},
     "output_type": "display_data"
    }
   ],
   "source": [
    "df[\"duration (minutes)\"].plot.hist() # bins=100"
   ]
  },
  {
   "cell_type": "code",
   "execution_count": 72,
   "id": "861933cd",
   "metadata": {},
   "outputs": [
    {
     "data": {
      "text/plain": [
       "<AxesSubplot:ylabel='Frequency'>"
      ]
     },
     "execution_count": 72,
     "metadata": {},
     "output_type": "execute_result"
    },
    {
     "data": {
      "image/png": "[encoded data removed]",
      "text/plain": [
       "<Figure size 432x288 with 1 Axes>"
      ]
     },
     "metadata": {},
     "output_type": "display_data"
    }
   ],
   "source": [
    "df[df[\"duration (minutes)\"] < 600][\"duration (minutes)\"].plot.hist() # bins=100"
   ]
  },
  {
   "cell_type": "code",
   "execution_count": 78,
   "id": "7bd86bc4",
   "metadata": {},
   "outputs": [
    {
     "data": {
      "text/plain": [
       "<AxesSubplot:xlabel='duration (minutes)', ylabel='Count'>"
      ]
     },
     "execution_count": 78,
     "metadata": {},
     "output_type": "execute_result"
    },
    {
     "data": {
      "image/png": "[encoded data removed]",
      "text/plain": [
       "<Figure size 432x288 with 1 Axes>"
      ]
     },
     "metadata": {},
     "output_type": "display_data"
    }
   ],
   "source": [
    "sns.histplot(data=df[df[\"duration (minutes)\"] < 300], x=\"duration (minutes)\")"
   ]
  },
  {
   "cell_type": "markdown",
   "id": "f006d572",
   "metadata": {},
   "source": [
    "## Boxplots"
   ]
  },
  {
   "cell_type": "code",
   "execution_count": 81,
   "id": "55d28340",
   "metadata": {},
   "outputs": [
    {
     "data": {
      "text/plain": [
       "<AxesSubplot:title={'center':'duration (minutes)'}, xlabel='country'>"
      ]
     },
     "execution_count": 81,
     "metadata": {},
     "output_type": "execute_result"
    },
    {
     "data": {
      "image/png": "[encoded data removed]",
      "text/plain": [
       "<Figure size 432x288 with 1 Axes>"
      ]
     },
     "metadata": {},
     "output_type": "display_data"
    }
   ],
   "source": [
    "df.boxplot(column=[\"duration (minutes)\"], by=\"country\")"
   ]
  },
  {
   "cell_type": "code",
   "execution_count": 84,
   "id": "1c564722",
   "metadata": {},
   "outputs": [
    {
     "data": {
      "image/png": "[encoded data removed]",
      "text/plain": [
       "<Figure size 432x288 with 1 Axes>"
      ]
     },
     "metadata": {},
     "output_type": "display_data"
    }
   ],
   "source": [
    "df[df[\"duration (minutes)\"] < 100].boxplot(column=[\"duration (minutes)\"], by=\"country\")\n",
    "plt.tight_layout()"
   ]
  },
  {
   "cell_type": "code",
   "execution_count": 83,
   "id": "7fbd6bb8",
   "metadata": {},
   "outputs": [
    {
     "data": {
      "text/plain": [
       "<AxesSubplot:xlabel='country', ylabel='duration (minutes)'>"
      ]
     },
     "execution_count": 83,
     "metadata": {},
     "output_type": "execute_result"
    },
    {
     "data": {
      "image/png": "[encoded data removed]",
      "text/plain": [
       "<Figure size 432x288 with 1 Axes>"
      ]
     },
     "metadata": {},
     "output_type": "display_data"
    }
   ],
   "source": [
    "sns.boxplot(data=df[df[\"duration (minutes)\"] < 100], x=\"country\", y=\"duration (minutes)\")"
   ]
  },
  {
   "cell_type": "markdown",
   "id": "df4b6a3d",
   "metadata": {},
   "source": [
    "# Well done!"
   ]
  },
  {
   "cell_type": "code",
   "execution_count": 87,
   "id": "85f33fdc",
   "metadata": {},
   "outputs": [
    {
     "data": {
      "image/jpeg": "[encoded data removed]",
      "text/plain": [
       "<IPython.core.display.Image object>"
      ]
     },
     "metadata": {},
     "output_type": "display_data"
    }
   ],
   "source": [
    "display(Image(filename='data/images/cute_panda_celebration.jpg'))"
   ]
  }
 ],
 "metadata": {
  "kernelspec": {
   "display_name": "Python 3 (ipykernel)",
   "language": "python",
   "name": "python3"
  },
  "language_info": {
   "codemirror_mode": {
    "name": "ipython",
    "version": 3
   },
   "file_extension": ".py",
   "mimetype": "text/x-python",
   "name": "python",
   "nbconvert_exporter": "python",
   "pygments_lexer": "ipython3",
   "version": "3.9.7"
  },
  "toc": {
   "base_numbering": 1,
   "nav_menu": {},
   "number_sections": true,
   "sideBar": true,
   "skip_h1_title": false,
   "title_cell": "Table of Contents",
   "title_sidebar": "Contents",
   "toc_cell": false,
   "toc_position": {},
   "toc_section_display": true,
   "toc_window_display": true
  }
 },
 "nbformat": 4,
 "nbformat_minor": 5
}
