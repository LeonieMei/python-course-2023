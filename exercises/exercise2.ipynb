{
 "cells": [
  {
   "cell_type": "code",
   "execution_count": 1,
   "id": "de17dd00",
   "metadata": {},
   "outputs": [],
   "source": [
    "import pandas as pd"
   ]
  },
  {
   "cell_type": "markdown",
   "id": "279b2fa3",
   "metadata": {},
   "source": [
    "Import the data from \"data/ufos/scrubbed.csv\"."
   ]
  },
  {
   "cell_type": "code",
   "execution_count": null,
   "id": "a5515b60",
   "metadata": {},
   "outputs": [],
   "source": []
  },
  {
   "cell_type": "markdown",
   "id": "543e693d",
   "metadata": {},
   "source": [
    "# Slicing and extracting data"
   ]
  },
  {
   "cell_type": "markdown",
   "id": "4c4aa5e2",
   "metadata": {},
   "source": [
    "Take a look at the `country` column."
   ]
  },
  {
   "cell_type": "code",
   "execution_count": null,
   "id": "bf360538",
   "metadata": {},
   "outputs": [],
   "source": []
  },
  {
   "cell_type": "markdown",
   "id": "f73885e7",
   "metadata": {},
   "source": [
    "Check how many null (NaN) values there are in that column."
   ]
  },
  {
   "cell_type": "code",
   "execution_count": null,
   "id": "7fc50bc1",
   "metadata": {},
   "outputs": [],
   "source": []
  },
  {
   "cell_type": "markdown",
   "id": "481ceb0d",
   "metadata": {},
   "source": [
    "Extract both the `country` and the `shape` column."
   ]
  },
  {
   "cell_type": "code",
   "execution_count": null,
   "id": "7cefe762",
   "metadata": {},
   "outputs": [],
   "source": []
  },
  {
   "cell_type": "markdown",
   "id": "f8904c9f",
   "metadata": {},
   "source": [
    "Extract the second row of the dataframe (using `iloc`)."
   ]
  },
  {
   "cell_type": "code",
   "execution_count": null,
   "id": "5c5db97f",
   "metadata": {},
   "outputs": [],
   "source": []
  },
  {
   "cell_type": "markdown",
   "id": "e0f66567",
   "metadata": {},
   "source": [
    "Do the same but using `loc`."
   ]
  },
  {
   "cell_type": "code",
   "execution_count": null,
   "id": "3d76b0d8",
   "metadata": {},
   "outputs": [],
   "source": []
  },
  {
   "cell_type": "markdown",
   "id": "e44d46e0",
   "metadata": {},
   "source": [
    "Extract the first 3 rows using either `iloc` or `loc`."
   ]
  },
  {
   "cell_type": "code",
   "execution_count": null,
   "id": "ea936c81",
   "metadata": {},
   "outputs": [],
   "source": []
  },
  {
   "cell_type": "code",
   "execution_count": null,
   "id": "33f8a96b",
   "metadata": {},
   "outputs": [],
   "source": []
  },
  {
   "cell_type": "markdown",
   "id": "8ac36f05",
   "metadata": {},
   "source": [
    "# Conditional slicing"
   ]
  },
  {
   "cell_type": "markdown",
   "id": "dcdd1cae",
   "metadata": {},
   "source": [
    "Extract all rows where the ufo was sighted in the us (using the `country` column)."
   ]
  },
  {
   "cell_type": "code",
   "execution_count": null,
   "id": "92fd95e0",
   "metadata": {},
   "outputs": [],
   "source": []
  },
  {
   "cell_type": "markdown",
   "id": "efa18ed0",
   "metadata": {},
   "source": [
    "Extract all rows where the duraction was below 100 seconds."
   ]
  },
  {
   "cell_type": "code",
   "execution_count": null,
   "id": "bf55c62c",
   "metadata": {},
   "outputs": [],
   "source": []
  },
  {
   "cell_type": "markdown",
   "id": "51aa2c9d",
   "metadata": {},
   "source": [
    "Bonus: Extract all sightings in the us and with a duration below 100 seconds."
   ]
  },
  {
   "cell_type": "code",
   "execution_count": null,
   "id": "00ffaaa3",
   "metadata": {},
   "outputs": [],
   "source": []
  },
  {
   "cell_type": "markdown",
   "id": "5a80cc49",
   "metadata": {},
   "source": [
    "How many sighting were in the us?"
   ]
  },
  {
   "cell_type": "code",
   "execution_count": null,
   "id": "29a7696d",
   "metadata": {},
   "outputs": [],
   "source": []
  },
  {
   "cell_type": "markdown",
   "id": "767b1b8d",
   "metadata": {},
   "source": [
    "# Cleaning data"
   ]
  },
  {
   "cell_type": "markdown",
   "id": "107c9720",
   "metadata": {},
   "source": [
    "Drop all rows that have a null value in the `country` column."
   ]
  },
  {
   "cell_type": "code",
   "execution_count": null,
   "id": "b958d955",
   "metadata": {},
   "outputs": [],
   "source": []
  },
  {
   "cell_type": "markdown",
   "id": "92d4fab1",
   "metadata": {},
   "source": [
    "# Renaming columns"
   ]
  },
  {
   "cell_type": "markdown",
   "id": "344718bb",
   "metadata": {},
   "source": [
    "Rename the `duration (seconds)` column to `duration`."
   ]
  },
  {
   "cell_type": "code",
   "execution_count": null,
   "id": "2ecb2ac8",
   "metadata": {},
   "outputs": [],
   "source": []
  },
  {
   "cell_type": "markdown",
   "id": "5d16bd07",
   "metadata": {},
   "source": [
    "Check if it worked."
   ]
  },
  {
   "cell_type": "code",
   "execution_count": null,
   "id": "b48b5a44",
   "metadata": {},
   "outputs": [],
   "source": []
  },
  {
   "cell_type": "markdown",
   "id": "ac08113a",
   "metadata": {},
   "source": [
    "# Replacing values in specific columns"
   ]
  },
  {
   "cell_type": "markdown",
   "id": "2e7352d5",
   "metadata": {},
   "source": [
    "Replace all \"us\" entries in the `country` column with \"united states\"."
   ]
  },
  {
   "cell_type": "code",
   "execution_count": 30,
   "id": "03043b88",
   "metadata": {},
   "outputs": [],
   "source": []
  },
  {
   "cell_type": "markdown",
   "id": "0e2eaa3f",
   "metadata": {},
   "source": [
    "Check if it worked."
   ]
  },
  {
   "cell_type": "code",
   "execution_count": null,
   "id": "48039b78",
   "metadata": {},
   "outputs": [],
   "source": []
  }
 ],
 "metadata": {
  "kernelspec": {
   "display_name": "Python 3 (ipykernel)",
   "language": "python",
   "name": "python3"
  },
  "language_info": {
   "codemirror_mode": {
    "name": "ipython",
    "version": 3
   },
   "file_extension": ".py",
   "mimetype": "text/x-python",
   "name": "python",
   "nbconvert_exporter": "python",
   "pygments_lexer": "ipython3",
   "version": "3.9.7"
  },
  "toc": {
   "base_numbering": 1,
   "nav_menu": {},
   "number_sections": true,
   "sideBar": true,
   "skip_h1_title": false,
   "title_cell": "Table of Contents",
   "title_sidebar": "Contents",
   "toc_cell": false,
   "toc_position": {},
   "toc_section_display": true,
   "toc_window_display": false
  }
 },
 "nbformat": 4,
 "nbformat_minor": 5
}
