{
 "cells": [
  {
   "cell_type": "code",
   "execution_count": 1,
   "id": "731e0c28",
   "metadata": {},
   "outputs": [],
   "source": [
    "import pandas as pd\n",
    "import seaborn as sns\n",
    "import matplotlib.pyplot as plt\n",
    "\n",
    "from IPython.display import Image, display"
   ]
  },
  {
   "cell_type": "code",
   "execution_count": 2,
   "id": "cd1e0679",
   "metadata": {},
   "outputs": [],
   "source": [
    "%matplotlib inline"
   ]
  },
  {
   "cell_type": "code",
   "execution_count": 3,
   "id": "fc79dc9f",
   "metadata": {},
   "outputs": [],
   "source": [
    "df = pd.read_csv(\"../data/ufos/scrubbed.csv\")"
   ]
  },
  {
   "cell_type": "markdown",
   "id": "c07cd2e1",
   "metadata": {},
   "source": [
    "# Summary operators"
   ]
  },
  {
   "cell_type": "markdown",
   "id": "c5e93978",
   "metadata": {},
   "source": [
    "Compute the mean of all columns with a numeric data type."
   ]
  },
  {
   "cell_type": "code",
   "execution_count": null,
   "id": "91a69583",
   "metadata": {},
   "outputs": [],
   "source": []
  },
  {
   "cell_type": "markdown",
   "id": "1a16c248",
   "metadata": {},
   "source": [
    "Compute the mean ufo sighting duration."
   ]
  },
  {
   "cell_type": "code",
   "execution_count": null,
   "id": "d59185c4",
   "metadata": {},
   "outputs": [],
   "source": []
  },
  {
   "cell_type": "markdown",
   "id": "09c9df4c",
   "metadata": {},
   "source": [
    "Compute the median ufo sighting duration."
   ]
  },
  {
   "cell_type": "code",
   "execution_count": null,
   "id": "a078f75e",
   "metadata": {},
   "outputs": [],
   "source": []
  },
  {
   "cell_type": "markdown",
   "id": "9317831a",
   "metadata": {},
   "source": [
    "Compute the standard deviation of the ufo sighting duration."
   ]
  },
  {
   "cell_type": "code",
   "execution_count": null,
   "id": "0eff57a6",
   "metadata": {},
   "outputs": [],
   "source": []
  },
  {
   "cell_type": "markdown",
   "id": "900ed081",
   "metadata": {},
   "source": [
    "Compute the minimum and maximum of the duration."
   ]
  },
  {
   "cell_type": "code",
   "execution_count": null,
   "id": "4ac67a34",
   "metadata": {},
   "outputs": [],
   "source": []
  },
  {
   "cell_type": "markdown",
   "id": "d7f1a7e6",
   "metadata": {},
   "source": [
    "Display the row with the maximum duration."
   ]
  },
  {
   "cell_type": "code",
   "execution_count": null,
   "id": "d0ffe93d",
   "metadata": {},
   "outputs": [],
   "source": []
  },
  {
   "cell_type": "markdown",
   "id": "c7d0f977",
   "metadata": {},
   "source": [
    "# Data manipulation"
   ]
  },
  {
   "cell_type": "markdown",
   "id": "4f7ce67f",
   "metadata": {},
   "source": [
    "Create a new column with the sighting durations in minutes (instead of seconds)."
   ]
  },
  {
   "cell_type": "code",
   "execution_count": null,
   "id": "46877e48",
   "metadata": {},
   "outputs": [],
   "source": []
  },
  {
   "cell_type": "markdown",
   "id": "d1361edc",
   "metadata": {},
   "source": [
    "Display both of these columns."
   ]
  },
  {
   "cell_type": "code",
   "execution_count": null,
   "id": "f6e33cad",
   "metadata": {},
   "outputs": [],
   "source": []
  },
  {
   "cell_type": "markdown",
   "id": "aa0a0fd6",
   "metadata": {},
   "source": [
    "# Counting"
   ]
  },
  {
   "cell_type": "markdown",
   "id": "49b2a159",
   "metadata": {},
   "source": [
    "Check how many sighting were reported for each country."
   ]
  },
  {
   "cell_type": "code",
   "execution_count": null,
   "id": "eba5a885",
   "metadata": {},
   "outputs": [],
   "source": []
  },
  {
   "cell_type": "markdown",
   "id": "0740730b",
   "metadata": {},
   "source": [
    "Check the proportion of sightings per country."
   ]
  },
  {
   "cell_type": "code",
   "execution_count": null,
   "id": "a9222f34",
   "metadata": {},
   "outputs": [],
   "source": []
  },
  {
   "cell_type": "markdown",
   "id": "70c2727e",
   "metadata": {},
   "source": [
    "Display the sightings for each combination of country and state."
   ]
  },
  {
   "cell_type": "code",
   "execution_count": 2,
   "id": "7ee8dcbd",
   "metadata": {},
   "outputs": [],
   "source": [
    "# Enables the display of up to 500 rows.\n",
    "pd.set_option(\"display.max_rows\", 500)"
   ]
  },
  {
   "cell_type": "code",
   "execution_count": null,
   "id": "6f074c6b",
   "metadata": {},
   "outputs": [],
   "source": []
  },
  {
   "cell_type": "markdown",
   "id": "340f89ee",
   "metadata": {},
   "source": [
    "# Aggregating data"
   ]
  },
  {
   "cell_type": "markdown",
   "id": "0e702f69",
   "metadata": {},
   "source": [
    "Display the mean sighting duration per country (Tip: use the `groupby` method)."
   ]
  },
  {
   "cell_type": "code",
   "execution_count": null,
   "id": "710ab498",
   "metadata": {},
   "outputs": [],
   "source": []
  },
  {
   "cell_type": "markdown",
   "id": "bfb98eae",
   "metadata": {},
   "source": [
    "Display the mean durations in a sorted order."
   ]
  },
  {
   "cell_type": "code",
   "execution_count": null,
   "id": "2aa08d57",
   "metadata": {},
   "outputs": [],
   "source": []
  },
  {
   "cell_type": "markdown",
   "id": "7247b0b7",
   "metadata": {},
   "source": [
    "Display the mean durations in a sorted order."
   ]
  },
  {
   "cell_type": "code",
   "execution_count": null,
   "id": "54d804b8",
   "metadata": {},
   "outputs": [],
   "source": []
  },
  {
   "cell_type": "markdown",
   "id": "7fc49f53",
   "metadata": {},
   "source": [
    "Do the same but with median instead of mean."
   ]
  },
  {
   "cell_type": "code",
   "execution_count": null,
   "id": "e73338f6",
   "metadata": {},
   "outputs": [],
   "source": []
  },
  {
   "cell_type": "markdown",
   "id": "bf42afd2",
   "metadata": {},
   "source": [
    "# Visualizing"
   ]
  },
  {
   "cell_type": "code",
   "execution_count": 50,
   "id": "fe588b2d",
   "metadata": {},
   "outputs": [],
   "source": [
    "#Make the graphs a bit prettier\n",
    "plt.style.use('ggplot')"
   ]
  },
  {
   "cell_type": "markdown",
   "id": "68c19039",
   "metadata": {},
   "source": [
    "## Barplots"
   ]
  },
  {
   "cell_type": "markdown",
   "id": "c6191563",
   "metadata": {},
   "source": [
    "Make a barplot showing the number of sightings per country (either using pandas' plotting methods or seaborn)."
   ]
  },
  {
   "cell_type": "code",
   "execution_count": null,
   "id": "0619304a",
   "metadata": {},
   "outputs": [],
   "source": []
  },
  {
   "cell_type": "markdown",
   "id": "321522d3",
   "metadata": {},
   "source": [
    "Make a barplot showing the mean sighting duration per country."
   ]
  },
  {
   "cell_type": "code",
   "execution_count": null,
   "id": "f47d7fd7",
   "metadata": {},
   "outputs": [],
   "source": []
  },
  {
   "cell_type": "markdown",
   "id": "029683e8",
   "metadata": {},
   "source": [
    "## Histograms"
   ]
  },
  {
   "cell_type": "markdown",
   "id": "d15730e7",
   "metadata": {},
   "source": [
    "Show the distribution of sighting durations (as a histogram)."
   ]
  },
  {
   "cell_type": "code",
   "execution_count": null,
   "id": "08c42e96",
   "metadata": {},
   "outputs": [],
   "source": []
  },
  {
   "cell_type": "markdown",
   "id": "f006d572",
   "metadata": {},
   "source": [
    "## Boxplots"
   ]
  },
  {
   "cell_type": "code",
   "execution_count": null,
   "id": "55d28340",
   "metadata": {},
   "outputs": [],
   "source": []
  },
  {
   "cell_type": "markdown",
   "id": "df4b6a3d",
   "metadata": {},
   "source": [
    "# Well done!"
   ]
  },
  {
   "cell_type": "code",
   "execution_count": 87,
   "id": "85f33fdc",
   "metadata": {},
   "outputs": [
    {
     "data": {
      "image/jpeg": "[encoded data removed]",
      "text/plain": [
       "<IPython.core.display.Image object>"
      ]
     },
     "metadata": {},
     "output_type": "display_data"
    }
   ],
   "source": [
    "display(Image(filename='data/images/cute_panda_celebration.jpg'))"
   ]
  }
 ],
 "metadata": {
  "kernelspec": {
   "display_name": "Python 3 (ipykernel)",
   "language": "python",
   "name": "python3"
  },
  "language_info": {
   "codemirror_mode": {
    "name": "ipython",
    "version": 3
   },
   "file_extension": ".py",
   "mimetype": "text/x-python",
   "name": "python",
   "nbconvert_exporter": "python",
   "pygments_lexer": "ipython3",
   "version": "3.9.7"
  },
  "toc": {
   "base_numbering": 1,
   "nav_menu": {},
   "number_sections": true,
   "sideBar": true,
   "skip_h1_title": false,
   "title_cell": "Table of Contents",
   "title_sidebar": "Contents",
   "toc_cell": false,
   "toc_position": {},
   "toc_section_display": true,
   "toc_window_display": true
  }
 },
 "nbformat": 4,
 "nbformat_minor": 5
}
