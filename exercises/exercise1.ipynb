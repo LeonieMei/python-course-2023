{
 "cells": [
  {
   "cell_type": "markdown",
   "id": "b2ee2300",
   "metadata": {},
   "source": [
    "Import the pandas library"
   ]
  },
  {
   "cell_type": "code",
   "execution_count": null,
   "id": "f0535f66",
   "metadata": {},
   "outputs": [],
   "source": []
  },
  {
   "cell_type": "markdown",
   "id": "23ec13c0",
   "metadata": {},
   "source": [
    "# Importing and exporting data"
   ]
  },
  {
   "cell_type": "markdown",
   "id": "2d94caf9",
   "metadata": {},
   "source": [
    "Import data from \"data/ufos/scrubbed.csv\"."
   ]
  },
  {
   "cell_type": "code",
   "execution_count": 81,
   "id": "7896bea9",
   "metadata": {},
   "outputs": [],
   "source": []
  },
  {
   "cell_type": "markdown",
   "id": "63e62b97",
   "metadata": {},
   "source": [
    "Have a first look at the data"
   ]
  },
  {
   "cell_type": "code",
   "execution_count": null,
   "id": "7f3fe311",
   "metadata": {},
   "outputs": [],
   "source": []
  },
  {
   "cell_type": "markdown",
   "id": "7393b633",
   "metadata": {},
   "source": [
    "Save the data as a csv file under the same name."
   ]
  },
  {
   "cell_type": "code",
   "execution_count": null,
   "id": "aa1e07fe",
   "metadata": {},
   "outputs": [],
   "source": []
  },
  {
   "cell_type": "markdown",
   "id": "83374f63",
   "metadata": {},
   "source": [
    "Save the data as a tsv file."
   ]
  },
  {
   "cell_type": "code",
   "execution_count": null,
   "id": "d2d1b573",
   "metadata": {},
   "outputs": [],
   "source": []
  },
  {
   "cell_type": "markdown",
   "id": "7be26020",
   "metadata": {},
   "source": [
    "Import the data from the tsv file you just created."
   ]
  },
  {
   "cell_type": "code",
   "execution_count": 89,
   "id": "fb7ad548",
   "metadata": {},
   "outputs": [],
   "source": []
  },
  {
   "cell_type": "markdown",
   "id": "4292731d",
   "metadata": {},
   "source": [
    "# Understanding the data"
   ]
  },
  {
   "cell_type": "markdown",
   "id": "d504b2a9",
   "metadata": {},
   "source": [
    "List all column names."
   ]
  },
  {
   "cell_type": "code",
   "execution_count": null,
   "id": "fd7eb9cf",
   "metadata": {},
   "outputs": [],
   "source": []
  },
  {
   "cell_type": "markdown",
   "id": "e3477052",
   "metadata": {},
   "source": [
    "Take a look at the first 4 rows of the dataframe."
   ]
  },
  {
   "cell_type": "code",
   "execution_count": null,
   "id": "09adbd9a",
   "metadata": {},
   "outputs": [],
   "source": []
  },
  {
   "cell_type": "markdown",
   "id": "da294075",
   "metadata": {},
   "source": [
    "Take a look at the last 10 rows of the dataframe."
   ]
  },
  {
   "cell_type": "code",
   "execution_count": null,
   "id": "49219e4c",
   "metadata": {},
   "outputs": [],
   "source": []
  },
  {
   "cell_type": "markdown",
   "id": "e8b0d6b3",
   "metadata": {},
   "source": [
    "Have a look at the summary statistics, including only columns of type float."
   ]
  },
  {
   "cell_type": "code",
   "execution_count": null,
   "id": "1af6b8d9",
   "metadata": {},
   "outputs": [],
   "source": []
  },
  {
   "cell_type": "markdown",
   "id": "a797a9e2",
   "metadata": {},
   "source": [
    "Check of the data types of the other columns using the `.info()`."
   ]
  },
  {
   "cell_type": "code",
   "execution_count": null,
   "id": "0d822f58",
   "metadata": {},
   "outputs": [],
   "source": []
  },
  {
   "cell_type": "markdown",
   "id": "b3158ec2",
   "metadata": {},
   "source": [
    "Check out the dataframe's dimensions."
   ]
  },
  {
   "cell_type": "code",
   "execution_count": null,
   "id": "532b59b9",
   "metadata": {},
   "outputs": [],
   "source": []
  },
  {
   "cell_type": "markdown",
   "id": "4fb91593",
   "metadata": {},
   "source": [
    "Check how many null values there are in each column."
   ]
  },
  {
   "cell_type": "code",
   "execution_count": null,
   "id": "ff78de14",
   "metadata": {},
   "outputs": [],
   "source": []
  },
  {
   "cell_type": "markdown",
   "id": "9eaee6a3",
   "metadata": {},
   "source": [
    "Check how many null values there are in total."
   ]
  },
  {
   "cell_type": "code",
   "execution_count": null,
   "id": "f376ac54",
   "metadata": {},
   "outputs": [],
   "source": []
  }
 ],
 "metadata": {
  "kernelspec": {
   "display_name": "Python 3 (ipykernel)",
   "language": "python",
   "name": "python3"
  },
  "language_info": {
   "codemirror_mode": {
    "name": "ipython",
    "version": 3
   },
   "file_extension": ".py",
   "mimetype": "text/x-python",
   "name": "python",
   "nbconvert_exporter": "python",
   "pygments_lexer": "ipython3",
   "version": "3.9.7"
  },
  "toc": {
   "base_numbering": 1,
   "nav_menu": {},
   "number_sections": true,
   "sideBar": true,
   "skip_h1_title": false,
   "title_cell": "Table of Contents",
   "title_sidebar": "Contents",
   "toc_cell": false,
   "toc_position": {},
   "toc_section_display": true,
   "toc_window_display": false
  }
 },
 "nbformat": 4,
 "nbformat_minor": 5
}
